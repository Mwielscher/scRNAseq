{
 "cells": [
  {
   "cell_type": "code",
   "execution_count": null,
   "metadata": {},
   "outputs": [],
   "source": [
    "rm(list=ls())\n",
    "my.libs=c(\"Seurat\",\"scran\",\"scater\",\"harmony\",\"ggtree\",\"ggplot2\",\"cowplot\",\"pROC\",\"RColorBrewer\",\"org.Hs.eg.db\")\n",
    "lapply(my.libs, require, character.only = TRUE)"
   ]
  },
  {
   "cell_type": "code",
   "execution_count": null,
   "metadata": {},
   "outputs": [],
   "source": [
    "dir=c(\"/home/matthias/chicken/\")\n",
    "dat.dir=c(\"/home/matthias/chicken/source_data/\")\n",
    "load(paste0(dat.dir,\"QC_ok_mtRNA30_LEG_1.RData\"))\n",
    "leg1=dat1\n",
    "load(paste0(dat.dir,\"QC_ok_mtRNA30LEG_2.RData\"))\n",
    "leg2=dat1\n",
    "load(paste0(dat.dir,\"QC_ok_mtRNA30_LEG_3.RData\"))\n",
    "leg3=dat1\n",
    "leg1@meta.data$replicate=rep(1,nrow(leg1@meta.data))\n",
    "leg2@meta.data$replicate=rep(2,nrow(leg2@meta.data))\n",
    "leg3@meta.data$replicate=rep(3,nrow(leg3@meta.data))"
   ]
  },
  {
   "cell_type": "code",
   "execution_count": null,
   "metadata": {},
   "outputs": [],
   "source": [
    "chicken.comb = merge(leg1, y = leg2, project = \"chicken\")\n",
    "chicken.comb1 =merge(chicken.comb,y=leg3,project = \"chicken\")"
   ]
  },
  {
   "cell_type": "code",
   "execution_count": null,
   "metadata": {},
   "outputs": [],
   "source": [
    "head(chicken.comb1@meta.data)"
   ]
  },
  {
   "cell_type": "code",
   "execution_count": null,
   "metadata": {},
   "outputs": [],
   "source": [
    "chicken.comb1=SCTransform(chicken.comb1, variable.features.n = NULL, vars.to.regress = c(\"percent.mt\",\"CC.Difference\"), \n",
    "            conserve.memory = F, return.only.var.genes = F) %>% RunPCA(verbose = TRUE)\n",
    "chicken.comb1@meta.data$replicate=as.factor(chicken.comb1@meta.data$replicate)\n",
    "all.vars=as.character(rownames(chicken.comb1))\n",
    "dat1_harmony = RunHarmony(chicken.comb1, assay.use=\"SCT\",group.by.vars = \"replicate\",vars_use=all.vars) # assay.use=\"SCT #vars_use=all.vars"
   ]
  },
  {
   "cell_type": "code",
   "execution_count": null,
   "metadata": {},
   "outputs": [],
   "source": [
    "Seurat::DimHeatmap(dat1_harmony, reduction = \"harmony\",dims = 1, cells = 500, balanced = TRUE)  ### plot the top 500 cells (highest scores)\n",
    "Seurat::DimHeatmap(dat1_harmony, dims = 2,reduction = \"harmony\", cells = 500, balanced = TRUE)  ### plot the top 500 cells (highest scores)\n",
    "Seurat::DimHeatmap(dat1_harmony, dims = 3,reduction = \"harmony\", cells = 500, balanced = TRUE)\n",
    "Seurat::DimHeatmap(dat1_harmony, dims = 4, reduction = \"harmony\",cells = 500, balanced = TRUE)\n",
    "Seurat::DimHeatmap(dat1_harmony, dims = 5,reduction = \"harmony\", cells = 500, balanced = TRUE)\n",
    "Seurat::DimHeatmap(dat1_harmony, dims = 6,reduction = \"harmony\", cells = 500, balanced = TRUE)\n",
    "Seurat::ElbowPlot(dat1_harmony,reduction=\"harmony\")"
   ]
  },
  {
   "cell_type": "code",
   "execution_count": null,
   "metadata": {},
   "outputs": [],
   "source": [
    "sig_PCs=c(1:16)\n",
    "sce.seurat <- RunUMAP(dat1_harmony, reduction = \"harmony\",dims = sig_PCs)"
   ]
  },
  {
   "cell_type": "code",
   "execution_count": null,
   "metadata": {},
   "outputs": [],
   "source": [
    "#sig_PCs=c(1,2,3,4,5,6,9,10,11,12,13,14,15)\n",
    "sig_PCs=c(1:16)\n",
    "sce.seurat1=Seurat::FindNeighbors(sce.seurat,reduction = \"harmony\",k.param = 20,dims=sig_PCs)  "
   ]
  },
  {
   "cell_type": "code",
   "execution_count": null,
   "metadata": {},
   "outputs": [],
   "source": [
    "clust_test=function(sce) {\n",
    "  cont=as.data.frame(matrix(NA,nrow=length(unique(Idents(sce))), ncol=4))\n",
    "  colnames(cont)=c(\"cluster\",\"cells\",\"mean_total_UMI\",\"mean_features\")\n",
    "  i=1\n",
    "  for (k in unique(Idents(sce))) {\n",
    "    print(c(k))\n",
    "    cont[i,1]=c(k)\n",
    "    dat23=sce@assays$RNA@counts[,Idents(sce)%in%c(k)]\n",
    "    cont[i,2]=table(Idents(sce)%in%c(k))[2]\n",
    "    cont[i,3]=mean(apply(dat23,2,function(x)sum(x)))\n",
    "    cont[i,4]=mean(apply(dat23,2,function(x)table(x %in% c(0))[1]))\n",
    "    i=i+1\n",
    "  }\n",
    "  cont=cont[order(as.numeric(as.character(cont$cluster))),]\n",
    "  return(cont)\n",
    "}"
   ]
  },
  {
   "cell_type": "code",
   "execution_count": null,
   "metadata": {},
   "outputs": [],
   "source": [
    "library(ggplot2)\n",
    "library(ggtree)\n",
    "library(cowplot)\n",
    "clust.res=0.2\n",
    "sce.seurat1=Seurat::FindClusters(sce.seurat1,resolution=clust.res)  \n",
    "sce.seurat1= Seurat::BuildClusterTree(sce.seurat1,dims=sig_PCs)\n",
    "#sce.seurat1 <- RunUMAP(sce.seurat1, dims = sig_PCs)\n",
    "tree1=sce.seurat1@tools$`Seurat::BuildClusterTree`\n",
    "pl=Seurat::DimPlot(sce.seurat1, reduction = \"umap\")\n",
    "pl= pl+ ggtitle(paste(\"UMAP and phylo-tree visualization of cell clusters \\n at resolution\",clust.res,sep=\" \")) +\n",
    "  theme (plot.title = element_text(color=\"black\", size=14, face=\"bold\",hjust = 0.5))\n",
    "pl.matrix=ggplot_build(pl)$data[1][[1]]\n",
    "uni_pl_mat=pl.matrix[!duplicated(pl.matrix$group),]\n",
    "tr=ggtree(tree1,layout=\"circular\") + geom_tiplab(aes(angle=angle), lwd=5,offset=.5,fontface=\"bold\")  \n",
    "plot_grid(pl, tr, align = \"v\", nrow = 2, rel_heights = c(2/3, 1/3),axis=\"l\")    \n",
    "#jpeg(paste0(out,\"CLUSTERING_NO_PBMC.jpeg\"))\n",
    " #plot_grid(pl, tr, align = \"v\", nrow = 2, rel_heights = c(2/3, 1/3),axis=\"l\")\n",
    "#dev.off()\n",
    "res1=clust_test(sce.seurat1)\n",
    "res1\n",
    "#write.csv(res1,file=paste0(out,\"CLUSTERING_NO_PBMC.csv\"))"
   ]
  },
  {
   "cell_type": "code",
   "execution_count": null,
   "metadata": {},
   "outputs": [],
   "source": [
    "save(sce.seurat1,file=\"all_chicken_legs_harmony_integrated_mtRNA30.RData\")"
   ]
  },
  {
   "cell_type": "code",
   "execution_count": null,
   "metadata": {},
   "outputs": [],
   "source": [
    "DefaultAssay(sce.seurat1)=c(\"RNA\")\n",
    "i=c(\"Krt9LC2\")  #LOR1-EDC #Krt5L1 Krt14L1  Krt9LC1 CBP63-K  Krt9L4    Krt9LC2 == cluster 4   Krt9L4 == cluster 6\n",
    "p=FeaturePlot(sce.seurat1,features = as.character(i),min.cutoff=0.1,max.cutoff=5)\n",
    "p"
   ]
  },
  {
   "cell_type": "code",
   "execution_count": null,
   "metadata": {},
   "outputs": [],
   "source": [
    "head(sce.seurat1@meta.data)"
   ]
  },
  {
   "cell_type": "markdown",
   "metadata": {},
   "source": [
    "# check saved objects"
   ]
  },
  {
   "cell_type": "code",
   "execution_count": null,
   "metadata": {},
   "outputs": [],
   "source": [
    "library(Seurat)\n",
    "jpeg(\"all_chicken_legs_harmony_mt30.RData\")\n",
    "UMAPPlot(sce.seurat1,split.by=\"replicate\")\n",
    "dev.off()\n",
    "UMAPPlot(sce.seurat1,split.by=\"replicate\")"
   ]
  },
  {
   "cell_type": "code",
   "execution_count": null,
   "metadata": {},
   "outputs": [],
   "source": [
    "head(sce.seurat1@meta.data)"
   ]
  },
  {
   "cell_type": "code",
   "execution_count": null,
   "metadata": {},
   "outputs": [],
   "source": [
    "phe=sce.seurat@meta.data[,c(\"percent.mt\",\"nCount_RNA\",\"nFeature_RNA\",\"doub_score\",\"nCount_SCT\",\"nFeature_SCT\",\"S.Score\",\"replicate\")]\n",
    "phe$ID=as.character(rownames(sce.seurat1@meta.data))\n",
    "pcs=sce.seurat1@reductions$harmony@cell.embeddings[,1:15]\n",
    "reg.dat=as.data.frame(cbind(phe,pcs))\n",
    "\n"
   ]
  },
  {
   "cell_type": "code",
   "execution_count": null,
   "metadata": {},
   "outputs": [],
   "source": [
    "hist(reg.dat$percent.mt)"
   ]
  },
  {
   "cell_type": "code",
   "execution_count": null,
   "metadata": {},
   "outputs": [],
   "source": [
    "head (reg.dat$percent.mt)"
   ]
  },
  {
   "cell_type": "code",
   "execution_count": null,
   "metadata": {},
   "outputs": [],
   "source": [
    "summary(lm(paste(\"harmony_\",k,\"~percent.mt\",sep=\"\"),data=reg.dat))\n"
   ]
  },
  {
   "cell_type": "code",
   "execution_count": null,
   "metadata": {},
   "outputs": [],
   "source": [
    "sig_PCs=c(15)\n",
    "mt_vs_PCs=data.frame(ID= rep(NA,sig_PCs),Estimate=rep(NA,sig_PCs),std_err=rep(NA,sig_PCs),t_val=rep(NA,sig_PCs),P_val=rep(NA,sig_PCs))\n",
    "\n",
    "for (k in 1:sig_PCs){\n",
    "  fit=summary(lm(paste(\"harmony_\",k,\"~percent.mt\",sep=\"\"),data=reg.dat))$coefficients[2,]\n",
    "  mt_vs_PCs[k,1]=paste(\"harmony_\",k,sep=\"\")\n",
    "  mt_vs_PCs[k,2:5]=fit\n",
    "}\n",
    "print(paste(\"multiple testing threshold is \",0.05/sig_PCs,sep=\"\"))\n",
    "print(\"++++++++++ associations between mitochnodrial RNA content and PCs in analysis +++++++++++++\")"
   ]
  },
  {
   "cell_type": "code",
   "execution_count": null,
   "metadata": {},
   "outputs": [],
   "source": [
    "# define the number of PCs you think make sense in your analysis\n",
    "sig_PCs=c(15)\n",
    "\n",
    "mt_vs_PCs=data.frame(ID= rep(NA,sig_PCs),Estimate=rep(NA,sig_PCs),std_err=rep(NA,sig_PCs),t_val=rep(NA,sig_PCs),P_val=rep(NA,sig_PCs))\n",
    "for (k in 1:sig_PCs){\n",
    "  fit=summary(lm(paste(\"PC_\",k,\"~perc_mt\",sep=\"\"),data=reg.dat))$coefficients[2,]\n",
    "  mt_vs_PCs[k,1]=paste(\"PC_\",k,sep=\"\")\n",
    "  mt_vs_PCs[k,2:5]=fit\n",
    "}\n",
    "print(paste(\"multiple testing threshold is \",0.05/sig_PCs,sep=\"\"))\n",
    "print(\"++++++++++ associations between mitochnodrial RNA content and PCs in analysis +++++++++++++\")\n",
    "mt_vs_PCs\n",
    "## library size \n",
    "libS_vs_PCs=data.frame(ID= rep(NA,sig_PCs),Estimate=rep(NA,sig_PCs),std_err=rep(NA,sig_PCs),t_val=rep(NA,sig_PCs),P_val=rep(NA,sig_PCs))\n",
    "for (k in 1:sig_PCs){\n",
    "  fit=summary(lm(paste(\"PC_\",k,\"~log_LIBsize\",sep=\"\"),data=reg.dat))$coefficients[2,]\n",
    "  libS_vs_PCs[k,1]=paste(\"PC_\",k,sep=\"\")\n",
    "  libS_vs_PCs[k,2:5]=fit\n",
    "}\n",
    "print(\"++++++++++ associations between library size and PCs in analysis +++++++++++++\")\n",
    "libS_vs_PCs\n",
    "overview[\"PCs_assocTECH\",2]=(length(which(libS_vs_PCs$P_val < (0.05/sig_PCs))) + length(which(mt_vs_PCs$P_val < (0.05/sig_PCs))))"
   ]
  },
  {
   "cell_type": "code",
   "execution_count": null,
   "metadata": {},
   "outputs": [],
   "source": []
  }
 ],
 "metadata": {
  "kernelspec": {
   "display_name": "R",
   "language": "R",
   "name": "ir"
  },
  "language_info": {
   "codemirror_mode": "r",
   "file_extension": ".r",
   "mimetype": "text/x-r-source",
   "name": "R",
   "pygments_lexer": "r",
   "version": "3.5.1"
  }
 },
 "nbformat": 4,
 "nbformat_minor": 4
}
