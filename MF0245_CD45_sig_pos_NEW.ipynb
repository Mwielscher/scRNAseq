{
 "cells": [
  {
   "cell_type": "markdown",
   "metadata": {},
   "source": [
    "# 10x scRNA-seq analysis pipeline module 1"
   ]
  },
  {
   "cell_type": "markdown",
   "metadata": {},
   "source": [
    "__In this notebook we will import the raw count matrix ([Per-molecule read information](https://support.10xgenomics.com/single-cell-gene-expression/software/pipelines/latest/output/overview) ) and do some basic inspection of read distributions as well as indentify empty droplets and doublets__ \n",
    "\n",
    "__INPUT__  \n",
    ">>raw count matrix (i.e. H5 file) \n",
    "\n",
    "\n",
    "__OUTPUT__\n",
    ">>[R singlecell data object](https://bioconductor.org/packages/release/bioc/vignettes/SingleCellExperiment/inst/doc/intro.html) conataining raw reads -- after exclusion of empty droplets, doublets, cells with high fraction of mt-RNA, and genes with low total read count  \n",
    "covariate file inculding fraction mtRNA and the library size (total UMI count) of each cell\n"
   ]
  },
  {
   "cell_type": "code",
   "execution_count": null,
   "metadata": {},
   "outputs": [],
   "source": [
    "rm(list=ls())\n",
    "my.libs=c(\"Seurat\",\"scran\",\"scater\",\"DropletUtils\")\n",
    "lapply(my.libs, require, character.only = TRUE)"
   ]
  },
  {
   "cell_type": "code",
   "execution_count": null,
   "metadata": {},
   "outputs": [],
   "source": [
    "dir=c(\"~/granuloma_nov2020/input_data/\")\n",
    "out=c(\"~/granuloma_nov2020/individual_QC/\")\n",
    "w.dir=c(\"~/granuloma_nov2020/\")\n",
    "sample_ID=c(\"MF245_CD45\")\n",
    "## make a QC-overview file\n",
    "inputfile=c(\"input_MF245_Granuloma_Patient_CD45.RData\")\n",
    "metrics=c(\"input_file\",\"background_FDR\",\"cells\", \"mitochRNA_thresh\",\"mitochRNA_excl\",\n",
    "          \"doublets\",\"cells_post_QC\",\"genes_post_QC\",\"umi_per_gene\",\"genes_per_cell\",\"UMI_per_cell\",\"UMIs_in_top50_in_perc\",\"HVG_thresh_type\",\"HVG_thresh\",\n",
    "         \"HVG\",\"PCs\",\"PCs_assocTECH\",\"resolution\",\"cluster\",\"diffGenes_total\")\n",
    "overview=data.frame(metric=rep(NA,length(metrics)),sample=rep(NA,length(metrics)))\n",
    "colnames(overview)[2]=c(sample_ID)\n",
    "row.names(overview)=overview$metric=as.character(metrics)\n",
    "overview[\"input_file\",2]=as.character(inputfile)\n",
    "####.     ----- we need marker database  --- here we use myeloid_cell_database\n",
    "marks=read.csv(paste0(\"~/granuloma_nov2020/myeloid_cell_database_MW.csv\"),header=T)\n",
    "####. -------  we need to convert all gene IDs to standardised NCBI IDs \n",
    "file.exists(paste0(w.dir,\"Homo_sapiens.gene_info\"))             "
   ]
  },
  {
   "cell_type": "code",
   "execution_count": null,
   "metadata": {},
   "outputs": [],
   "source": [
    "# to be done outside of anaconda environment\n",
    "##dont forget to preload\n",
    "#export LD_PRELOAD=/home/matthias/anaconda3/lib/libhdf5.so:/home/matthias/anaconda3/lib/libhdf5_hl.so.100\n",
    "#dat =Seurat::Read10X_h5(\"MF320_CD45_sig_pos_scRNAseq_filtered.h5\", use.names = TRUE, unique.features = TRUE)\n",
    "\n",
    "load(paste0(dir,inputfile))"
   ]
  },
  {
   "cell_type": "markdown",
   "metadata": {},
   "source": [
    "### convert to NCBI SYMBOL"
   ]
  },
  {
   "cell_type": "code",
   "execution_count": null,
   "metadata": {},
   "outputs": [],
   "source": [
    "library(limma)\n",
    "test2=alias2SymbolUsingNCBI(as.character(rownames(dat)),paste0(w.dir,\"Homo_sapiens.gene_info\"),required.columns = c(\"GeneID\",\"Symbol\"))\n",
    "test3=as.data.frame(cbind(test2,as.character(rownames(dat))))\n",
    "colnames(test3)[3]=c(\"rowN\")\n",
    "test3$new = ifelse(is.na(test3$Symbol), as.character(test3$rowN), test3$Symbol)\n",
    "rownames(dat)= as.character(test3$new)"
   ]
  },
  {
   "cell_type": "markdown",
   "metadata": {},
   "source": [
    "### exclude empty droplets:  \n",
    "[empty Drops method](https://genomebiology.biomedcentral.com/articles/10.1186/s13059-019-1662-y) for distinguishing between background (droplets with no RNA) from droplets containing RNA based on modeling the background of empty drops and compare them to drops with RNA - thus you do not have to make an expert desicion on keeping only cells with at least 1000 genes as in seurat.  \n",
    "no threshold -- we could give one e.g. at least 3 UMIs to retain  \n",
    "lower is a stat parameter to model ambient RNA and cannot be directly translated to number of UMIs "
   ]
  },
  {
   "cell_type": "code",
   "execution_count": null,
   "metadata": {},
   "outputs": [],
   "source": [
    "empty_thresh=c(0.05)\n",
    "overview[\"background_FDR\",2]=empty_thresh\n",
    "dat1=DropletUtils::emptyDrops(dat, lower=400, retain=NULL)   ## very slow !!\n",
    "dat1$FDR[is.na(dat1$FDR)]=1\n",
    "paste(table(dat1$FDR <empty_thresh)[2],\"droplets are below FDR < 0.05 for not being background noise\",sep=\" \")\n",
    "overview[\"cells\",2]=table(dat1$FDR <empty_thresh)[2]\n",
    "dat=dat[,dat1$FDR < empty_thresh]  \n",
    "rm(dat1) "
   ]
  },
  {
   "cell_type": "code",
   "execution_count": null,
   "metadata": {},
   "outputs": [],
   "source": [
    "sce = SingleCellExperiment(assays = list(counts = as.matrix(dat)))\n",
    "is.mito=grepl(\"MT-\",rownames(sce@assays@data$counts))\n",
    "perc_mt=apply(sce@assays@data$counts,2,function(x) sum(x[is.mito]/sum(x)))\n",
    "a=c(seq(0,1,by=0.02)[1:length(seq(0,max(perc_mt),by=0.02))-1],max(perc_mt))\n",
    "hist(perc_mt,breaks=a,freq=T,main=paste(\"Expression of mitochondrial genes\\n sample:\",sample_ID,sep=\" \"), ylab=c(\"number of cells\"),xlab=c(\"MT expression in %\"))\n",
    "abline(v=median(perc_mt),col=\"red\",lwd=2)\n",
    "abline(v=quantile(perc_mt,probs = seq(0,1,by=0.25))[2],col=\"green\",lty=2,lwd=2)  # 25%\n",
    "abline(v=quantile(perc_mt,probs = seq(0,1,by=0.25))[4],col=\"green\",lty=2,lwd=2)  # 75%\n",
    "abline(v=(median(perc_mt)+3*(mad(perc_mt))),col=\"blue\",lty=2,lwd=2)\n",
    "legend(\"right\", legend=c(\"median\", \"25% and 75% percentile\",\"outlier threshold (3xMAD)\"),\n",
    "       col=c(\"red\", \"green\",\"blue\"), lty=c(1,2,2),lwd=1.5, cex=0.8)\n",
    "              \n",
    "#######.   ------------------------------------\n",
    "jpeg(paste0(out,sample_ID,\"_mtRNA.jpeg\"))\n",
    "hist(perc_mt,breaks=a,freq=T,main=paste(\"Expression of mitochondrial genes\\n sample:\",sample_ID,sep=\" \"), ylab=c(\"number of cells\"),xlab=c(\"MT expression in %\"))\n",
    "abline(v=median(perc_mt),col=\"red\",lwd=2)\n",
    "abline(v=quantile(perc_mt,probs = seq(0,1,by=0.25))[2],col=\"green\",lty=2,lwd=2)  # 25%\n",
    "abline(v=quantile(perc_mt,probs = seq(0,1,by=0.25))[4],col=\"green\",lty=2,lwd=2)  # 75%\n",
    "abline(v=(median(perc_mt)+3*(mad(perc_mt))),col=\"blue\",lty=2,lwd=2)\n",
    "legend(\"right\", legend=c(\"median\", \"25% and 75% percentile\",\"outlier threshold (3xMAD)\"),\n",
    "       col=c(\"red\", \"green\",\"blue\"), lty=c(1,2,2),lwd=1.5, cex=0.8)\n",
    "              \n",
    "dev.off()             \n",
    "              \n",
    "## ------------     check and subset\n",
    "table(perc_mt < (median(perc_mt)+3*(mad(perc_mt))))\n",
    "thresh=median(perc_mt)+3*(mad(perc_mt))\n",
    "thresh=0.15\n",
    "exclude_mtDNA=table(perc_mt < thresh)[1]            \n",
    "sce1=sce[,perc_mt < thresh]\n",
    "overview[\"mitochRNA_thresh\",2]=thresh\n",
    "overview[\"mitochRNA_excl\",2]=exclude_mtDNA\n",
    "dim(sce1)"
   ]
  },
  {
   "cell_type": "markdown",
   "metadata": {},
   "source": [
    "### remove Doublets "
   ]
  },
  {
   "cell_type": "markdown",
   "metadata": {},
   "source": [
    "[Doublet cells](https://ltla.github.io/SingleCellThoughts/software/doublet_detection/bycell.html) for each cell are simultated and compared to the actual neighboing cells of the tested cell (this makes a score)\n",
    "* Force match corrects for RNA content of cells  \n",
    "* size factors and normalization is computed internally to avoid confusion  \n",
    "* This is what happens:  \n",
    "> 1. Simulate thousands of doublets by adding together two randomly chosen single-cell profiles.  \n",
    "> 2. For each original cell, compute the density of simulated doublets in the surrounding neighbourhood.  \n",
    "> 3. For each original cell, compute the density of other observed cells in the neighbourhood.  \n",
    "> 4. Return the ratio between the two densities as a “doublet score” for each cell.  \n",
    "\n",
    "\n",
    "so let's say we simmulated douplet cells\n",
    "> now for a particular cell we are looking at 100 neighbors  \n",
    "> densitiy of doublets for this cell is 30 that makes 30/100   \n",
    "> density of other cells is 70/100 than makes 70/100  \n",
    "> makes a score of 0.4 -- log10 of that  \n",
    ">> as the number of other cells goes down the score goes up  \n",
    "> process number of neigbors = now 200  \n",
    "  \n",
    "__cutoff should be around 4__"
   ]
  },
  {
   "cell_type": "code",
   "execution_count": null,
   "metadata": {},
   "outputs": [],
   "source": [
    "doublet_score=scran::doubletCells(sce1, k = 200,force.match=TRUE)\n",
    "doub_score=log10(doublet_score+1)\n",
    "thresh=median(doub_score)+3*mad(doub_score)\n",
    "thresh=4\n",
    "hist(doub_score,breaks=25,main=\"Distribution of Doublet Scores\",xlab=\"log(doublet scores)\",ylab=c(\"number of cells\"))\n",
    "abline(v=thresh,col=\"blue\",lty=2,lwd=2)\n",
    "legend(\"topright\", legend=c(\"Doublet exclussion threshold\"),\n",
    "       col=c(\"blue\"), lty=c(2),lwd=1.5, cex=0.8)\n",
    "\n",
    "exclude_doublet=table(doub_score<thresh)[1]\n",
    "sce2=sce1[,doub_score<thresh]\n",
    "paste(\"in sample QC process we excluded\",exclude_mtDNA,\"samples due to hight Mitochondrial DNA proportion and\",\n",
    "      exclude_doublet,\"potential Doublet cells\",sep=\" \")\n",
    "paste(\"that leaves \", dim(sce2)[2], \"cells for further analysis\")\n",
    "overview[\"doublets\",2]=exclude_doublet\n",
    "#  --------------------------------------------------------    remove mitochndrial RNA assays \n",
    "#is.mito=grepl(\"MT-\",rownames(sce2@assays@data$counts))\n",
    "#perc_mt1=apply(sce2@assays@data$counts,2,function(x) sum(x[is.mito]/sum(x)))\n",
    "#paste(\"we excluded\", table(grepl(\"MT-\",rownames(sce2@assays@data$counts)))[2],\"mitochondiral genes\",sep=\" \")\n",
    "#sce2=sce2[!(grepl(\"MT-\",rownames(sce2@assays@data$counts))),]\n",
    "## --------------------------------------------------------------"
   ]
  },
  {
   "cell_type": "markdown",
   "metadata": {},
   "source": [
    "### UMI per cell (library size)"
   ]
  },
  {
   "cell_type": "code",
   "execution_count": null,
   "metadata": {},
   "outputs": [],
   "source": [
    "umi_per_cell=apply(sce@assays@data$counts,2,sum)\n",
    "median(umi_per_cell)"
   ]
  },
  {
   "cell_type": "code",
   "execution_count": null,
   "metadata": {},
   "outputs": [],
   "source": [
    "umi_per_cell=apply(sce@assays@data$counts,2,sum)\n",
    "lib_size_mad=mad(umi_per_cell)\n",
    "a=c(seq(0,max(umi_per_cell/1000),by=3)[1:length(seq(0,max(umi_per_cell/1000),by=3))-1],max(umi_per_cell/1000))\n",
    "options(warn=-1)\n",
    "hist(umi_per_cell/1000,freq=T,\n",
    "     main=paste(\"UMI per cell (library size)\\n sample:\",sample_ID,sep=\" \"), ylab=c(\"number of cells\"),xlab=c(\"UMI per cell in thousands\"))\n",
    "abline(v=median(umi_per_cell/1000),col=\"red\",lwd=2)\n",
    "abline(v=quantile(umi_per_cell/1000,probs = seq(0,1,by=0.25))[2],col=\"green\",lty=2,lwd=2)  # 25%\n",
    "abline(v=quantile(umi_per_cell/1000,probs = seq(0,1,by=0.25))[4],col=\"green\",lty=2,lwd=2)  # 75%\n",
    "#abline(v=(median(umi_per_cell)+5*(mad(umi_per_cell)))/1000,col=\"blue\",lty=2,lwd=2)\n",
    "legend(\"right\", legend=c(paste0(\"median = \",median(umi_per_cell/1000)), \"25% and 75% percentile\"),\n",
    "       col=c(\"red\", \"green\"), lty=1:2,lwd=1.5, cex=0.8, title=\"width of each bin = 3\",title.adj=0)\n",
    "\n",
    "jpeg(paste0(out,sample_ID,\"_LIBRARY_SIZE.jpeg\"))\n",
    "hist(umi_per_cell/1000,breaks=a,freq=T,\n",
    "     main=paste(\"UMI per cell (library size)\\n sample:\",sample_ID,sep=\" \"), ylab=c(\"number of cells\"),xlab=c(\"UMI per cell in thousands\"))\n",
    "abline(v=median(umi_per_cell/1000),col=\"red\",lwd=2)\n",
    "abline(v=quantile(umi_per_cell/1000,probs = seq(0,1,by=0.25))[2],col=\"green\",lty=2,lwd=2)  # 25%\n",
    "abline(v=quantile(umi_per_cell/1000,probs = seq(0,1,by=0.25))[4],col=\"green\",lty=2,lwd=2)  # 75%\n",
    "#abline(v=(median(umi_per_cell)+5*(mad(umi_per_cell)))/1000,col=\"blue\",lty=2,lwd=2)\n",
    "legend(\"right\", legend=c(paste0(\"median = \",median(umi_per_cell/1000)), \"25% and 75% percentile\"),\n",
    "       col=c(\"red\", \"green\"), lty=1:2,lwd=1.5, cex=0.8, title=\"width of each bin = 3\",title.adj=0)\n",
    "\n",
    "dev.off()\n",
    "\n",
    "\n"
   ]
  },
  {
   "cell_type": "markdown",
   "metadata": {},
   "source": [
    "### Genes per cell"
   ]
  },
  {
   "cell_type": "code",
   "execution_count": null,
   "metadata": {},
   "outputs": [],
   "source": [
    "feature_per_cell=apply(sce@assays@data$counts,2,function(x)table(x %in% c(0))[1])\n",
    "\n",
    "a=c(seq(0,max(feature_per_cell),by=200)[1:length(seq(0,max(feature_per_cell),by=200))-1],max(feature_per_cell))\n",
    "hist(feature_per_cell,breaks=a,freq=T,\n",
    "     main=paste(\"Feature per cell\\n sample:\",sample_ID,sep=\" \"), ylab=c(\"number of cells\"),xlab=c(\"features per cell\"))\n",
    "abline(v=median(feature_per_cell),col=\"red\",lwd=2)\n",
    "abline(v=quantile(feature_per_cell,probs = seq(0,1,by=0.25))[2],col=\"green\",lty=2,lwd=2)  # 25%\n",
    "abline(v=quantile(feature_per_cell,probs = seq(0,1,by=0.25))[4],col=\"green\",lty=2,lwd=2)  # 75%\n",
    "legend(\"right\", legend=c(\"median\", \"25% and 75% percentile\"),\n",
    "       col=c(\"red\", \"green\"), lty=1:2,lwd=1.5, cex=0.8, title=\"width of each bin = 200\",title.adj=0)"
   ]
  },
  {
   "cell_type": "markdown",
   "metadata": {},
   "source": [
    "## saturation plot  \n",
    ">should get flat at the right end  \n",
    ">if it looks linear --  coverage is too low"
   ]
  },
  {
   "cell_type": "code",
   "execution_count": null,
   "metadata": {},
   "outputs": [],
   "source": [
    "overview[\"UMI_per_cell\",2]=mean(umi_per_cell)\n",
    "overview[\"genes_per_cell\",2]=mean(feature_per_cell)\n",
    "sat=as.data.frame(cbind(feature_per_cell,umi_per_cell))\n",
    "sat=sat[order(sat$feature_per_cell),]\n",
    "colnames(sat)=c(\"GENES\",\"nUMI\")\n",
    "p=ggplot(sat,aes(x=nUMI,y=GENES)) +\n",
    "geom_point(alpha=0.1)+\n",
    "stat_smooth(method=loess)\n",
    "p\n",
    "jpeg(paste0(out,sample_ID,\"_saturation.jpeg\"))\n",
    "print(p)\n",
    "dev.off()"
   ]
  },
  {
   "cell_type": "markdown",
   "metadata": {},
   "source": [
    "> #### UMI per feature"
   ]
  },
  {
   "cell_type": "code",
   "execution_count": null,
   "metadata": {},
   "outputs": [],
   "source": [
    "umi_per_feature=apply(sce2@assays@data$counts,1,sum)\n",
    "ave_per_feature=apply(sce2@assays@data$counts,1,mean)\n",
    "total=dim(sce2)[2]\n",
    "one=format(mean(umi_per_feature[log10(ave_per_feature)<log10(0.2)]),digits=1)\n",
    "two=format(mean(umi_per_feature[log10(ave_per_feature)<log10(0.05)]),digits=1)\n",
    "drei=format(mean(umi_per_feature[log10(ave_per_feature)<log10(0.01)]),digits=1)\n",
    "four=format(mean(umi_per_feature[log10(ave_per_feature)<log10(0.005)]),digits=1)\n",
    "\n",
    "hist(log10(ave_per_feature),breaks=50,main=c(\"Average expression per feature\"),xlab=c(\"log10(mean expression per feature)\"),\n",
    "     ylab=c(\"number of features\"))\n",
    "abline(v=log10(0.2),col=\"blue\",lty=2,lwd=2)\n",
    "abline(v=log10(0.05),col=\"green\",lty=2,lwd=2)\n",
    "abline(v=log10(0.01),col=\"red\",lty=2,lwd=2)\n",
    "abline(v=log10(0.005),col=\"black\",lty=2,lwd=2)\n",
    "\n",
    "legend(\"topright\", legend=c(paste(\"equals\",four,\"reads distibuted over\",total,\"cells\"), \n",
    "                            paste(\"equals\",drei,\"reads distibuted over\",total,\"cells\"),\n",
    "                            paste(\"equals\",two,\"reads distibuted over\",total,\"cells\"),\n",
    "                            paste(\"equals\",one,\"reads distibuted over\",total,\"cells\")),\n",
    "       col=c(\"black\", \"red\",\"green\",\"blue\"), lty=c(2),lwd=1.5, cex=0.8, title=\"expression in numbers\",title.adj=0)\n",
    "\n",
    "jpeg(paste0(out,sample_ID,\"_UMI_per_feature.jpeg\"))\n",
    "hist(log10(ave_per_feature),breaks=50,main=c(\"Average expression per feature\"),xlab=c(\"log10(mean expression per feature)\"),\n",
    "     ylab=c(\"number of features\"))\n",
    "abline(v=log10(0.2),col=\"blue\",lty=2,lwd=2)\n",
    "abline(v=log10(0.05),col=\"green\",lty=2,lwd=2)\n",
    "abline(v=log10(0.01),col=\"red\",lty=2,lwd=2)\n",
    "abline(v=log10(0.005),col=\"black\",lty=2,lwd=2)\n",
    "\n",
    "legend(\"topright\", legend=c(paste(\"equals\",four,\"reads distibuted over\",total,\"cells\"), \n",
    "                            paste(\"equals\",drei,\"reads distibuted over\",total,\"cells\"),\n",
    "                            paste(\"equals\",two,\"reads distibuted over\",total,\"cells\"),\n",
    "                            paste(\"equals\",one,\"reads distibuted over\",total,\"cells\")),\n",
    "       col=c(\"black\", \"red\",\"green\",\"blue\"), lty=c(2),lwd=1.5, cex=0.8, title=\"expression in numbers\",title.adj=0)\n",
    "\n",
    "dev.off()"
   ]
  },
  {
   "cell_type": "code",
   "execution_count": null,
   "metadata": {},
   "outputs": [],
   "source": [
    "thresh1=c(0.01)\n",
    "paste(\"applying a threshold of\",thresh1, \"will remove\",table(log10(ave_per_feature)>log10(thresh1))[1], \"genes\",sep=\" \")\n",
    "paste(\" and leave\",table(log10(ave_per_feature)>log10(thresh1))[2],\"in our analysis\",sep=\" \")\n",
    "overview[\"genes_post_QC\",2]=table(log10(ave_per_feature)>log10(thresh1))[2]\n",
    "sce3=sce2[log10(ave_per_feature)>log10(thresh1),] "
   ]
  },
  {
   "cell_type": "code",
   "execution_count": null,
   "metadata": {},
   "outputs": [],
   "source": [
    "doublet_score=scran::doubletCells(sce3, k = 200,force.match=TRUE)\n",
    "doub_score=log10(doublet_score+1)\n",
    "mat=sce3@assays@data$counts\n",
    "dat=CreateSeuratObject(mat,assay = \"RNA\")\n",
    "dat@meta.data$doub_score=doub_score\n",
    "dat[[\"percent.mt\"]] <- PercentageFeatureSet(dat, pattern = \"^MT-\")\n",
    "overview[\"cells_post_QC\",2]=dim(dat)[2]\n",
    "write.csv(overview,file=paste0(out,sample_ID,\".csv\"))"
   ]
  },
  {
   "cell_type": "code",
   "execution_count": null,
   "metadata": {},
   "outputs": [],
   "source": [
    "head(dat@meta.data)"
   ]
  },
  {
   "cell_type": "markdown",
   "metadata": {},
   "source": [
    "## SEURAT SCT standard integration and clustering"
   ]
  },
  {
   "cell_type": "markdown",
   "metadata": {},
   "source": [
    "# restrict to a minimum of 1000 UMIs"
   ]
  },
  {
   "cell_type": "code",
   "execution_count": null,
   "metadata": {},
   "outputs": [],
   "source": [
    "dim(dat)\n",
    "dat=dat[,dat@meta.data$nCount_RNA > 1000]\n",
    "dim(dat)"
   ]
  },
  {
   "cell_type": "code",
   "execution_count": null,
   "metadata": {},
   "outputs": [],
   "source": [
    "dat1=SCTransform(dat, variable.features.n = NULL,conserve.memory = F, return.only.var.genes = F)\n",
    "s.genes <- cc.genes$s.genes\n",
    "g2m.genes <- cc.genes$g2m.genes\n",
    "dat1 =CellCycleScoring(dat1, s.features = s.genes, g2m.features = g2m.genes, set.ident = TRUE)\n",
    "dat1$CC.Difference = dat1$S.Score - dat1$G2M.Score\n",
    "\n"
   ]
  },
  {
   "cell_type": "code",
   "execution_count": null,
   "metadata": {},
   "outputs": [],
   "source": [
    "library(tidyverse)\n",
    "dat1=SCTransform(dat1, variable.features.n = NULL,vars.to.regress=c(\"nCount_RNA\",\"percent.mt\",\"CC.Difference\"),\n",
    "            conserve.memory = F, return.only.var.genes = F) %>% RunPCA(verbose = TRUE)"
   ]
  },
  {
   "cell_type": "code",
   "execution_count": null,
   "metadata": {},
   "outputs": [],
   "source": [
    "Seurat::DimHeatmap(dat1, dims =1 , cells = 500, balanced = TRUE)  ### plot the top 500 cells (highest scores)\n",
    "Seurat::DimHeatmap(dat1, dims = 2, cells = 500, balanced = TRUE)  ### plot the top 500 cells (highest scores)\n",
    "Seurat::ElbowPlot(dat1)"
   ]
  },
  {
   "cell_type": "code",
   "execution_count": null,
   "metadata": {},
   "outputs": [],
   "source": [
    "sig_PCs=c(1:14)\n",
    "dat1 <- RunUMAP(dat1,dims = sig_PCs)\n",
    "sce.seurat1=Seurat::FindNeighbors(dat1,reduction = \"pca\",k.param = 20,dims=sig_PCs) "
   ]
  },
  {
   "cell_type": "code",
   "execution_count": null,
   "metadata": {},
   "outputs": [],
   "source": [
    "Idents(sce.seurat1)=as.factor(sce.seurat1@meta.data$Phase)\n",
    "jpeg(paste0(out,sample_ID,\"_cell_cycle.jpeg\"))\n",
    "UMAPPlot(sce.seurat1)\n",
    "dev.off()\n",
    "UMAPPlot(sce.seurat1)"
   ]
  },
  {
   "cell_type": "code",
   "execution_count": null,
   "metadata": {},
   "outputs": [],
   "source": [
    "i=c(\"MMP9\")  ## MMP9 MKI67 CD4 CD14 SLC9B2 CD68\n",
    "#MKI67 SLC9B2 SIGLEC15  COL1A1  KRT5  KRT14 PECAM1  CD14 CD4  PTPRC   CD3E   MRC1  NKG7\n",
    "p=FeaturePlot(sce.seurat1, features = as.character(i),min.cutoff=0.1,max.cutoff=5)\n",
    "    print(p)\n",
    "    #jpeg(paste(out,sample_ID,\"_umap_\", i,\".jpeg\",sep=\"\"))\n",
    "     # print(p)\n",
    "    #dev.off()"
   ]
  },
  {
   "cell_type": "code",
   "execution_count": null,
   "metadata": {},
   "outputs": [],
   "source": [
    "clust_test=function(sce) {\n",
    "  cont=as.data.frame(matrix(NA,nrow=length(unique(Idents(sce))), ncol=4))\n",
    "  colnames(cont)=c(\"cluster\",\"cells\",\"mean_total_UMI\",\"mean_features\")\n",
    "  i=1\n",
    "  for (k in unique(Idents(sce))) {\n",
    "    print(c(k))\n",
    "    cont[i,1]=c(k)\n",
    "    dat23=sce@assays$RNA@counts[,Idents(sce)%in%c(k)]\n",
    "    cont[i,2]=table(Idents(sce)%in%c(k))[2]\n",
    "    cont[i,3]=mean(apply(dat23,2,function(x)sum(x)))\n",
    "    cont[i,4]=mean(apply(dat23,2,function(x)table(x %in% c(0))[1]))\n",
    "    i=i+1\n",
    "  }\n",
    "  cont=cont[order(as.numeric(as.character(cont$cluster))),]\n",
    "  return(cont)\n",
    "}"
   ]
  },
  {
   "cell_type": "code",
   "execution_count": null,
   "metadata": {},
   "outputs": [],
   "source": [
    "library(ggplot2)\n",
    "library(ggtree)\n",
    "library(cowplot)\n",
    "clust.res=0.3\n",
    "sce.seurat1=Seurat::FindClusters(sce.seurat1,resolution=clust.res)  \n",
    "sce.seurat1= Seurat::BuildClusterTree(sce.seurat1,dims=sig_PCs)\n",
    "#sce.seurat1 <- RunUMAP(sce.seurat1, dims = sig_PCs)\n",
    "tree1=sce.seurat1@tools$`Seurat::BuildClusterTree`\n",
    "pl=Seurat::DimPlot(sce.seurat1, reduction = \"umap\")\n",
    "pl= pl+ ggtitle(paste(\"UMAP and phylo-tree visualization of cell clusters \\n at resolution\",clust.res,sep=\" \")) +\n",
    "  theme (plot.title = element_text(color=\"black\", size=14, face=\"bold\",hjust = 0.5))\n",
    "pl.matrix=ggplot_build(pl)$data[1][[1]]\n",
    "uni_pl_mat=pl.matrix[!duplicated(pl.matrix$group),]\n",
    "tr=ggtree(tree1,layout=\"circular\") + geom_tiplab(aes(angle=angle), lwd=5,offset=.5,fontface=\"bold\")  \n",
    "plot_grid(pl, tr, align = \"v\", nrow = 2, rel_heights = c(2/3, 1/3),axis=\"l\")    \n",
    "jpeg(paste0(out,sample_ID,\"CLUSTERING_OVERVIEW.jpeg\"))\n",
    " plot_grid(pl, tr, align = \"v\", nrow = 2, rel_heights = c(2/3, 1/3),axis=\"l\")\n",
    "dev.off()\n",
    "res1=clust_test(sce.seurat1)\n",
    "res1\n",
    "#write.csv(res1,file=paste0(out,\"CLUSTERING_LEG.csv\"))"
   ]
  },
  {
   "cell_type": "markdown",
   "metadata": {},
   "source": [
    "### testing markers manually"
   ]
  },
  {
   "cell_type": "code",
   "execution_count": null,
   "metadata": {},
   "outputs": [],
   "source": [
    "target=alias2SymbolUsingNCBI(\"COL1A1\",paste0(w.dir,\"Homo_sapiens.gene_info\"),required.columns = c(\"GeneID\",\"Symbol\"))\n",
    "i=as.character(target[1,2])\n",
    "\n",
    "\n",
    "p=FeaturePlot(sce.seurat1, features = as.character(i),min.cutoff=0.1,max.cutoff=5)\n",
    "    print(p)\n"
   ]
  },
  {
   "cell_type": "markdown",
   "metadata": {},
   "source": [
    "### looks like there is a Fibroblast contamination  \n",
    "> those will be excluded"
   ]
  },
  {
   "cell_type": "code",
   "execution_count": null,
   "metadata": {
    "jupyter": {
     "outputs_hidden": true
    }
   },
   "outputs": [],
   "source": [
    "head(sce.seurat1@reductions$umap@cell.embeddings[,2])\n",
    "dim(sce.seurat1)\n",
    "sce.seurat1=sce.seurat1[,sce.seurat1@reductions$umap@cell.embeddings[,2] > -10]\n",
    "dim(sce.seurat1)"
   ]
  },
  {
   "cell_type": "code",
   "execution_count": null,
   "metadata": {
    "jupyter": {
     "outputs_hidden": true
    }
   },
   "outputs": [],
   "source": [
    "marks=read.csv(\"myeloid_cell_database_MW.csv\",header=T)\n",
    "marks=marks[marks$curator %in% c(\"MW\"),]       ################.  for now --- cut down number a little ....\n",
    "for (k in (1:nrow(marks))) {\n",
    "    target=alias2SymbolUsingNCBI(as.character(marks$Name[k]),paste0(w.dir,\"Homo_sapiens.gene_info\"),required.columns = c(\"GeneID\",\"Symbol\"))\n",
    "    i=target[1,2]\n",
    "    if (! i %in% rownames(sce.seurat1)){\n",
    "        print(noquote(paste(marks$Name[k],\" serving as Marker for \" ,marks$cell_type[k],\"is not in object and will be skipped!\")))\n",
    "        next\n",
    "    }else {\n",
    "       p= FeaturePlot(sce.seurat1, features = as.character(i),min.cutoff=0.1,max.cutoff=5)\n",
    "        p= p + ggtitle(paste(marks$Name[k],\"specific for\", marks$cell_type[k],\"cells?\") )\n",
    "        v=VlnPlot(sce.seurat1, features = as.character(i))    \n",
    "        print(plot_grid(p, v, align = \"v\", nrow = 2, rel_heights = c(2/3, 1/3),axis=\"l\")  )  \n",
    "    }\n",
    "    \n",
    "}"
   ]
  },
  {
   "cell_type": "code",
   "execution_count": null,
   "metadata": {},
   "outputs": [],
   "source": [
    "target=alias2SymbolUsingNCBI(\"CD3E\",paste0(w.dir,\"Homo_sapiens.gene_info\"),required.columns = c(\"GeneID\",\"Symbol\"))\n",
    "    i=target[1,2]\n",
    "target\n",
    "    if (! i %in% rownames(sce.seurat1)){\n",
    "        print(noquote(paste(marks$Name[k],\" serving as Marker for \" ,marks$FeatureType[k],\"is not in data object and will be skipped!\")))\n",
    "        next\n",
    "    }else {\n",
    "       p= FeaturePlot(sce.seurat1, features = as.character(i),min.cutoff=0.1,max.cutoff=5)\n",
    "        p= p + ggtitle(paste(marks$Name[k],\"specific for\", marks$FeatureType[k],\"cells?\") )\n",
    "        v=VlnPlot(sce.seurat1, features = as.character(i))    \n",
    "        print(plot_grid(p, v, align = \"v\", nrow = 2, rel_heights = c(2/3, 1/3),axis=\"l\")  )  \n",
    "    }\n",
    "\n",
    "\n"
   ]
  },
  {
   "cell_type": "markdown",
   "metadata": {},
   "source": [
    "## Association testing NOW !!"
   ]
  },
  {
   "cell_type": "code",
   "execution_count": null,
   "metadata": {},
   "outputs": [],
   "source": [
    "sce.seurat=sce.seurat1\n",
    "clust.n=as.character(unique(Idents(sce.seurat)))\n",
    "clust.size=table(Idents(sce.seurat))\n",
    "clust.size\n",
    "\n",
    "clust.n=as.character(unique(Idents(sce.seurat)))\n",
    "rm(res_wilcox)\n",
    "\n"
   ]
  },
  {
   "cell_type": "code",
   "execution_count": null,
   "metadata": {
    "jupyter": {
     "outputs_hidden": true
    }
   },
   "outputs": [],
   "source": [
    "library(pROC)\n",
    "library(Matrix)\n",
    "# ====================================.  prep input data\n",
    "clust.n=as.character(unique(Idents(sce.seurat)))\n",
    "clust.size=table(Idents(sce.seurat))\n",
    "clust.size\n",
    "max_per_cluster=c(5000)  \n",
    "clust.n=as.character(unique(Idents(sce.seurat)))\n",
    "rm(res_wilcox)\n",
    "\n",
    "\n",
    "### ---------------------------------------------   one vs one for all cluster\n",
    "for (i in clust.n) {        ##  case loop\n",
    "     contr.clust=clust.n[!clust.n %in% i]\n",
    "    for (k in contr.clust) {    ## contr loop\n",
    "        if (i == k) {\n",
    "            next\n",
    "        }  \n",
    "         print(paste(\"computing markers for cluster\", i,\"compared to\",k,\"now!!!\", sep=\" \"))\n",
    "          seurat_cluster_0 = FindMarkers(sce.seurat, ident.1 = i, ident.2 = k,test.use = \"MAST\",\n",
    "                                 logfc.threshold = 0.15,max.cells.per.ident = max_per_cluster,\n",
    "                                min.cells.group=50,only.pos = TRUE)  # min.pct = 0.3\n",
    "          seurat_cluster_0=seurat_cluster_0[seurat_cluster_0$p_val_adj < 0.05,]\n",
    "        seurat_cluster_0$ID=as.character(rownames(seurat_cluster_0))\n",
    "          seurat_cluster_0$case_CLUSTER=rep(i,nrow(seurat_cluster_0))\n",
    "          seurat_cluster_0$contr_CLUSTER=rep(k,nrow(seurat_cluster_0))\n",
    "          seurat_cluster_0$clust_size=rep(as.numeric(clust.size[i]),nrow(seurat_cluster_0))\n",
    "          sce.case=sce.seurat[rownames(sce.seurat) %in%  as.character(seurat_cluster_0$ID),Idents(sce.seurat)%in%c(i)]\n",
    "          sce.contr=sce.seurat[rownames(sce.seurat) %in%  as.character(seurat_cluster_0$ID),Idents(sce.seurat)%in%c(k)]\n",
    "            seurat_cluster_0=seurat_cluster_0[as.character(rownames(sce.case)), ]\n",
    "            seurat_cluster_0$case_total_umi=Matrix::rowSums(sce.case@assays$RNA@counts)\n",
    "            seurat_cluster_0$contr_total_umi=Matrix::rowSums(sce.contr@assays$RNA@counts)\n",
    "            ##.   ------------- get AUC\n",
    "            auc.sce=merge(sce.case,sce.contr)\n",
    "            seurat_cluster_0=seurat_cluster_0[as.character(rownames(auc.sce)), ]\n",
    "            response=rep(1,length(Idents(auc.sce)))                                       \n",
    "            response[Idents(auc.sce)%in% c(i)]=2\n",
    "            seurat_cluster_0$AUC=apply(auc.sce@assays$SCT@data,1,function(x)auc(response,as.numeric(x),quiet=T,allow.invalid.partial.auc.correct=F))             \n",
    "        if(!exists(\"res_wilcox\")){\n",
    "            res_wilcox=seurat_cluster_0\n",
    "          }else {\n",
    "            res_wilcox=rbind(res_wilcox,seurat_cluster_0)\n",
    "          }\n",
    "      rm(seurat_cluster_0,response,add.t,sce.contr,sce.case,auc.sce)\n",
    "    } ## contr loop\n",
    "}  ## case loop                                                                  "
   ]
  },
  {
   "cell_type": "code",
   "execution_count": null,
   "metadata": {},
   "outputs": [],
   "source": [
    "save(res_wilcox,file=paste(out,\"ASSOC_result_cluster_\",sample_ID, \".RData\"))"
   ]
  },
  {
   "cell_type": "code",
   "execution_count": null,
   "metadata": {},
   "outputs": [],
   "source": [
    "#save(sce.seurat,file=paste(out,\"sce_seurat_\",sample_ID,\".RData\"))"
   ]
  },
  {
   "cell_type": "code",
   "execution_count": null,
   "metadata": {},
   "outputs": [],
   "source": [
    "head(res_wilcox)"
   ]
  },
  {
   "cell_type": "code",
   "execution_count": null,
   "metadata": {},
   "outputs": [],
   "source": [
    "####.   -----------------------   Parameter for enrichemt\n",
    "library(enrichR)\n",
    "enrich.lists=c('WikiPathways_2019_Human','KEGG_2019_Human' ,'Reactome_2016','BioPlanet_2019','Human_Gene_Atlas','ARCHS4_Tissues',\n",
    "               'Mouse_Gene_Atlas','GO_Biological_Process_2018','GO_Molecular_Function_2018','MSigDB_Hallmark_2020')\n",
    "screen.overlaps=c('MSigDB_Hallmark_2020','Human_Gene_Atlas','ARCHS4_Tissues','Mouse_Gene_Atlas','KEGG_2019_Human')\n",
    "###      ----------------------   NEW CURRENT VERSION.  !!!!!!!!!\n",
    "tiering_thresh=data.frame(case_perc=c(0.5,0.3),contr_perc=c(0.05,0.05))\n",
    "AUC_tier3=c(0.8)\n",
    "lgFC_tier3=c(0.25)\n",
    "maxCONTR=length(unique(res_wilcox$contr_CLUSTER))-1\n",
    "markerN=5\n",
    "### ----------------------------- tiering function\n",
    "tiering=function(dat,markerN){\n",
    "    dat=dat[order(-dat$AUC),]\n",
    "    order.ID=dat$ID[!duplicated(dat$ID)]   ### returns them in order of apperance !\n",
    "    ok.ID=order.ID[1:markerN]\n",
    "    dat12=dat[dat$ID %in% as.character(ok.ID),]\n",
    "return(dat12)\n",
    "}\n",
    "##------------------------------------------\n",
    "all.cases=unique(res_wilcox$case_CLUSTER)\n",
    "for (k in all.cases) {\n",
    "    print(noquote(c('--------------------------------------------------------------------------------')))\n",
    "    print(noquote(paste0(\"--------------   processing cluster \",k,\" as CASES now !!   ------------------------\")))\n",
    "    ## -------------------------------------------------------  prep full MACR dataset\n",
    "    inter=res_wilcox[res_wilcox$case_CLUSTER %in% k,]\n",
    "    dim(inter)\n",
    "    for (t in c(\"TIER\",\"DUPL\",\"nameCONT\",\"panel\",\"panel_descr\",unique(inter$contr_CLUSTER))){\n",
    "        inter[,t]=NA\n",
    "    } \n",
    "    ### ---------------------------------------------   start\n",
    "    rm(final.out)\n",
    "    for (tier in c(1,2,3)){\n",
    "        if (!exists(\"final.out\")){\n",
    "            int.t1a=inter[inter$pct.1>tiering_thresh[tier,1] & inter$pct.2 < tiering_thresh[tier,2],]\n",
    "            int.t1a$TIER=c(tier)\n",
    "        } else if (tier %in% c(2)) {\n",
    "            inter1=inter[!(inter$ID %in% final.out$ID),]\n",
    "            int.t1a=inter1[inter1$pct.1>tiering_thresh[tier,1] & inter1$pct.2 < tiering_thresh[tier,2],]\n",
    "            int.t1a$TIER=c(tier)\n",
    "        } else if ( tier %in% c(3)){\n",
    "            inter1=inter[!(inter$ID %in% final.out$ID),]\n",
    "            int.t1a=inter1[inter1$AUC> as.numeric(AUC_tier3) & inter1$avg_logFC > lgFC_tier3,]\n",
    "            int.t1a$TIER=c(tier)\n",
    "        }\n",
    "    ### ------------   prep data per TIER\n",
    "        rm(int.t1)\n",
    "        for (kt in unique(int.t1a$ID)) {\n",
    "            int2=int.t1a[int.t1a$ID %in% kt,]\n",
    "            entr=as.character(int2$contr_CLUSTER)\n",
    "            int2$DUPL=length(entr)\n",
    "            int2$nameCONT = paste(entr,sep='',collapse=\" | \")\n",
    "            for (j in entr) {\n",
    "                int2[,j]=c(1)\n",
    "                }  \n",
    "            if(!exists(\"int.t1\")){\n",
    "                int.t1=int2\n",
    "                }else {\n",
    "                int.t1=rbind(int.t1,int2) \n",
    "            }\n",
    "        }\n",
    "    ### -------------------------------------\n",
    "    ### create panels -- per TIER   \n",
    "        spec=NA\n",
    "        for (r in maxCONTR:1) {  \n",
    "            dat=int.t1[int.t1$DUPL %in% r,]\n",
    "            #print (paste(\"this is control \", r, sep=\" \"))\n",
    "            if (max(int.t1$DUPL) < r) {  \n",
    "                #print (paste(\"skip \",r ,\"!!!\"))\n",
    "                next \n",
    "                } else if (any(dat$DUPL %in% maxCONTR)) {\n",
    "                        #print (c(\"found a lot of data\"))         \n",
    "                        dat12=tiering(dat,markerN)\n",
    "                        spec=c(spec,as.character(dat12$contr_CLUSTER))\n",
    "                        int.t1$panel[int.t1$ID %in% unique(dat12$ID)]=paste0(\"TIER\",tier,\"_panel\")        \n",
    "                    } ### a lot of data else if\n",
    "                    else if (nrow(dat) > 1 & length(spec)<2){\n",
    "                        #print (c(\"found data for the first time\"))   \n",
    "                        dat12=tiering(dat,markerN)\n",
    "                        spec=c(spec,as.character(dat12$contr_CLUSTER))\n",
    "                        int.t1$panel[int.t1$ID %in% unique(dat12$ID)]=paste0(\"TIER\",tier,\"_panel\")   \n",
    "                      }\n",
    "                    else if (nrow(dat) > 1){\n",
    "                       # print (c(\"found data !!!\")) \n",
    "                        freq.t=as.data.frame(table(spec))\n",
    "                        stay.in=freq.t$spec[freq.t$Freq < markerN]\n",
    "                        dat=dat[dat$contr_CLUSTER %in% stay.in, ]\n",
    "                        if (nrow(dat) > 1){\n",
    "                            dat12=tiering(dat,markerN)\n",
    "                            spec=c(spec,as.character(dat12$contr_CLUSTER))\n",
    "                            int.t1$panel[int.t1$ID %in% unique(dat12$ID)]=paste0(\"TIER\",tier,\"_panel\") \n",
    "                        } else { next }\n",
    "                    }\n",
    "        } # for loop\n",
    "###. -------\n",
    "        fin.int=as.data.frame(table(int.t1$contr_CLUSTER[!is.na(int.t1$panel)]))\n",
    "        zeros=unique(inter$contr_CLUSTER)[!(unique(inter$contr_CLUSTER) %in% fin.int$Var1)]\n",
    "        if (length(zeros >0)){\n",
    "            fin.int=rbind(fin.int,data.frame(Var1=zeros,Freq=rep(0,length(zeros))))\n",
    "        }\n",
    "        pan.descr=paste(paste(fin.int$Freq, fin.int$Var1,sep=\"x\"),sep=\"\",collapse=\" \")\n",
    "        int.t1$panel_descr[int.t1$panel %in% paste0(\"TIER\",tier,\"_panel\")] = c(pan.descr)  \n",
    "## \n",
    "        print(noquote(paste0(\" TIER \",tier, \" Markerpanel:\")))\n",
    "        print(noquote(paste(unique(int.t1$ID[int.t1$panel %in% paste0(\"TIER\",tier,\"_panel\") ]))))\n",
    "        if(!exists(\"final.out\")){\n",
    "            final.out=int.t1\n",
    "        } else {\n",
    "            final.out=rbind(final.out,int.t1)\n",
    "        }\n",
    "    } # close tiering loop\n",
    "    assign(paste0(\"all_tiers_\", k), final.out)  ### keep this for phenotype loop\n",
    "    write.table(final.out,file=paste0(out,\"MARKERS_specific_\",k,\"_allTIERs.txt\"),sep=\"\\t\",col.names=T,row.names=F,quote=F)\n",
    "    print(noquote(paste0('written to file: ', out,\"MARKERS_specific_\",k,\"_allTIERs.txt\")))\n",
    "####.  ----------------------------------   run enrichment\n",
    "    dat1=final.out[final.out$TIER %in% c(\"1\",\"2\"),]\n",
    "    g.list=dat1$ID[!duplicated(dat1$ID)]\n",
    "    invisible(capture.output(enr.result <- enrichr(as.character(g.list),enrich.lists)))\n",
    "#####.  ---------------------------------    screen overlaps and create list\n",
    "    for (over in enrich.lists) {\n",
    "        if(over %in% screen.overlaps){\n",
    "            print(noquote(paste(\"           ++++++++ cluster\",k, \"overlaps to\",over,\"++++++++     \")))\n",
    "            print(noquote((enr.result)[[over]][1:5,c(1,2,4)]))\n",
    "        }\n",
    "        inter=head((enr.result)[[over]],n=20)\n",
    "        if (!exists(\"over.fin\")){\n",
    "            over.fin=inter\n",
    "        }else {\n",
    "            over.fin=as.data.frame(rbind(over.fin, inter))\n",
    "            }\n",
    "        }\n",
    "    write.table(over.fin,file=paste0(out,\"OVERLAPS_specific_\",k,\"_TIER_1_2.txt\"),sep=\"\\t\",col.names=T,row.names=F,quote=F)\n",
    "    print(noquote(paste0('written to file: ', out,\"OVERLAPS_specific_\",k,\"_TIER_1_2.txt\")))\n",
    "    rm(over.fin)\n",
    "    \n",
    "}          "
   ]
  },
  {
   "cell_type": "code",
   "execution_count": null,
   "metadata": {},
   "outputs": [],
   "source": [
    "target=alias2SymbolUsingNCBI(\"CLEC5A\",paste0(w.dir,\"Homo_sapiens.gene_info\"),required.columns = c(\"GeneID\",\"Symbol\"))\n",
    "    i=target[1,2]\n",
    "target\n",
    "    if (! i %in% rownames(sce.seurat1)){\n",
    "        print(noquote(paste(marks$Name[k],\" serving as Marker for \" ,marks$FeatureType[k],\"is not in data object and will be skipped!\")))\n",
    "        next\n",
    "    }else {\n",
    "       p= FeaturePlot(sce.seurat1, features = as.character(i),min.cutoff=0.1,max.cutoff=5)\n",
    "        p= p + ggtitle(paste(i,\"specific for testted cells?\") )\n",
    "        v=VlnPlot(sce.seurat1, features = as.character(i))    \n",
    "        print(plot_grid(p, v, align = \"v\", nrow = 2, rel_heights = c(2/3, 1/3),axis=\"l\")  )  \n",
    "    }\n",
    "\n"
   ]
  },
  {
   "cell_type": "code",
   "execution_count": null,
   "metadata": {},
   "outputs": [],
   "source": [
    "sce.seurat=sce.seurat1\n",
    "sce.seurat@meta.data$celltypes=rep(NA,nrow(sce.seurat@meta.data))\n",
    "sce.seurat@meta.data$celltypes[sce.seurat@meta.data$seurat_clusters %in% c(\"4\")]=c(\"SIGLEC15\")\n",
    "sce.seurat@meta.data$celltypes[sce.seurat@meta.data$seurat_clusters %in% c(\"2\",\"6\")]=c(\"NKT\")\n",
    "sce.seurat@meta.data$celltypes[sce.seurat@meta.data$seurat_clusters %in% c(\"0\",\"3\",\"5\")]=c(\"Mono_MACR\")\n",
    "sce.seurat@meta.data$celltypes[sce.seurat@meta.data$seurat_clusters %in% c(\"1\",\"8\",\"7\")]=c(\"unknown\")\n",
    "\n",
    "table(sce.seurat@meta.data$celltypes)\n",
    "print(noquote(c(\"check NAs :\")))\n",
    "table(is.na(sce.seurat@meta.data$celltypes))\n",
    "\n",
    "sce.seurat@meta.data=sce.seurat@meta.data[,!colnames(sce.seurat@meta.data) %in% c(\"old.ident\",\"SCT_snn_res.0.3\")]\n",
    "sce.seurat@meta.data$seurat_clusters=paste(sample_ID,sce.seurat@meta.data$seurat_clusters,sep=\"_\")"
   ]
  },
  {
   "cell_type": "code",
   "execution_count": null,
   "metadata": {},
   "outputs": [],
   "source": [
    "dat1=sce.seurat\n",
    "save(dat1,file=paste0(dir,\"QC_ok_\",sample_ID,\".RData\"))"
   ]
  },
  {
   "cell_type": "markdown",
   "metadata": {},
   "source": [
    "## create PseudoBULK sample"
   ]
  },
  {
   "cell_type": "code",
   "execution_count": null,
   "metadata": {},
   "outputs": [],
   "source": [
    "load(paste0(dir,\"QC_ok_\",sample_ID,\".RData\"))"
   ]
  },
  {
   "cell_type": "code",
   "execution_count": null,
   "metadata": {},
   "outputs": [],
   "source": [
    "head(dat1@meta.data)"
   ]
  },
  {
   "cell_type": "code",
   "execution_count": null,
   "metadata": {},
   "outputs": [],
   "source": [
    "table(dat1@meta.data$seurat_clusters)"
   ]
  },
  {
   "cell_type": "code",
   "execution_count": null,
   "metadata": {},
   "outputs": [],
   "source": [
    "inter=dat1@assays$RNA@counts[,dat1@meta.data$seurat_clusters %in% c(\"MF245_CD45_0\")]\n",
    "test=as.data.frame(rowSums(inter))\n",
    "test$ID=as.character(rownames(test))\n",
    "colnames(test)[1]=c(\"MF245_CD45_C0_MONO_MACR\")\n",
    "head(test)\n",
    "inter=dat1@assays$RNA@counts[,dat1@meta.data$seurat_clusters %in% c(\"MF245_CD45_4\")]\n",
    "test2=as.data.frame(rowSums(inter))\n",
    "colnames(test2)[1]=c(\"MF245_CD45_C4_SIGLEC15\")\n",
    "head(test2)\n",
    "inter=dat1@assays$RNA@counts[,dat1@meta.data$seurat_clusters %in% c(\"MF245_CD45_3\")]\n",
    "test3=as.data.frame(rowSums(inter))\n",
    "colnames(test3)[1]=c(\"MF245_CD45_C3_MONO_MACR\")\n",
    "head(test3)\n",
    "inter=dat1@assays$RNA@counts[,dat1@meta.data$seurat_clusters %in% c(\"MF245_CD45_2\",\"MF245_CD45_6\")]\n",
    "test4=as.data.frame(rowSums(inter))\n",
    "colnames(test4)[1]=c(\"MF245_CD45_C6_C2_NKT\")\n",
    "head(test4)\n",
    "export=as.data.frame(cbind(test,test2,test3,test4))\n",
    "head(export)\n",
    "\n",
    "write.table(export,file=\"~/granuloma_nov2020/pseudo_bulk_sample/MF245_CD45.txt\",sep=\"\\t\",col.names=T,row.names=F,quote=F)"
   ]
  },
  {
   "cell_type": "code",
   "execution_count": null,
   "metadata": {},
   "outputs": [],
   "source": [
    "inter=dat1@assays$RNA@counts[,dat1@meta.data$seurat_clusters %in% c(\"MF245_CD45_4\")]\n",
    "test=as.data.frame(rowSums(inter))\n",
    "test$ID=as.character(rownames(test))\n",
    "colnames(test)[1]=c(\"MF245_CD45_C4_SIGLEC15\")\n",
    "head(test)"
   ]
  },
  {
   "cell_type": "markdown",
   "metadata": {},
   "source": [
    "## Prep data for Entropy and Velocity - simple"
   ]
  },
  {
   "cell_type": "code",
   "execution_count": null,
   "metadata": {},
   "outputs": [],
   "source": [
    "load(paste0(dir,\"QC_ok_\",sample_ID,\".RData\"))"
   ]
  },
  {
   "cell_type": "code",
   "execution_count": null,
   "metadata": {},
   "outputs": [],
   "source": [
    "head(dat1@meta.data)\n",
    "table(dat1@meta.data$seurat_clusters,dat1@meta.data$celltypes)"
   ]
  },
  {
   "cell_type": "code",
   "execution_count": null,
   "metadata": {},
   "outputs": [],
   "source": [
    "dim(dat1)\n",
    "dat2=dat1[,dat1@meta.data$seurat_clusters %in% c(\"MF245_CD45_0\",\"MF245_CD45_1\",\"MF245_CD45_3\",\"MF245_CD45_4\",\"MF245_CD45_5\",\"MF245_CD45_7\")]\n",
    "dim(dat2)"
   ]
  },
  {
   "cell_type": "code",
   "execution_count": null,
   "metadata": {
    "jupyter": {
     "outputs_hidden": true
    }
   },
   "outputs": [],
   "source": [
    "dat2=RunPCA(dat2, verbose = TRUE)\n",
    "Seurat::DimHeatmap(dat2, dims =1 , cells = 500, balanced = TRUE)  ### plot the top 500 cells (highest scores)\n",
    "Seurat::DimHeatmap(dat2, dims = 2, cells = 500, balanced = TRUE)  ### plot the top 500 cells (highest scores)\n",
    "Seurat::ElbowPlot(dat2)\n"
   ]
  },
  {
   "cell_type": "code",
   "execution_count": null,
   "metadata": {},
   "outputs": [],
   "source": [
    "sig_PCs=c(1:13)\n",
    "dat1 <- RunUMAP(dat2,dims = sig_PCs)\n",
    "sce.seurat1=Seurat::FindNeighbors(dat2,reduction = \"pca\",k.param = 20,dims=sig_PCs) "
   ]
  },
  {
   "cell_type": "code",
   "execution_count": null,
   "metadata": {},
   "outputs": [],
   "source": [
    "i=c(\"SIGLEC15\")  ## MMP9 MKI67 CD4 CD14 SLC9B2 CD68\n",
    "#MKI67 SLC9B2 SIGLEC15  COL1A1  KRT5  KRT14 PECAM1  CD14 CD4  PTPRC   CD3E   MRC1  NKG7\n",
    "p=FeaturePlot(sce.seurat1, features = as.character(i),min.cutoff=0.1,max.cutoff=5)\n",
    "    print(p)\n",
    "#sce.seurat2=sce.seurat1[,sce.seurat1@reductions$umap@cell.embeddings[,1]> -5 ]\n",
    "#p=FeaturePlot(sce.seurat2, features = as.character(i),min.cutoff=0.1,max.cutoff=5)\n",
    "#    print(p)\n",
    "#sce.seurat1=sce.seurat2\n",
    "#dat2=sce.seurat2"
   ]
  },
  {
   "cell_type": "code",
   "execution_count": null,
   "metadata": {},
   "outputs": [],
   "source": [
    "save(sce.seurat1,file=paste0(w.dir,\"input_data/QC_ok_\",sample_ID,\"_MONO_MACR_ONLY.RData\"))"
   ]
  },
  {
   "cell_type": "code",
   "execution_count": null,
   "metadata": {},
   "outputs": [],
   "source": [
    "write.table(as.data.frame(dat2@assays$RNA@counts),file=paste0(w.dir,\"entropie_input/\",sample_ID,\"for_CytoTRACE.txt\"),sep=\"\\t\",col.names=T,row.names=T,quote=F)\n",
    "head(as.data.frame(dat2@assays$RNA@counts))\n",
    "write.table(as.data.frame(sce.seurat1@reductions$umap@cell.embeddings),file=paste0(w.dir,\"entropie_input/\",sample_ID,\"_UMAP_for_CytoTRACE.txt\"),sep=\"\\t\",col.names=T,row.names=T,quote=F)\n",
    "write.table(as.data.frame(colnames(dat2)),file=paste0(w.dir,\"entropie_input/\",sample_ID,\"for_VELOCYTO.txt\"),col.names=F,row.names=F,quote=F)"
   ]
  },
  {
   "cell_type": "code",
   "execution_count": null,
   "metadata": {},
   "outputs": [],
   "source": []
  }
 ],
 "metadata": {
  "kernelspec": {
   "display_name": "R",
   "language": "R",
   "name": "ir"
  },
  "language_info": {
   "codemirror_mode": "r",
   "file_extension": ".r",
   "mimetype": "text/x-r-source",
   "name": "R",
   "pygments_lexer": "r",
   "version": "3.5.1"
  }
 },
 "nbformat": 4,
 "nbformat_minor": 4
}
