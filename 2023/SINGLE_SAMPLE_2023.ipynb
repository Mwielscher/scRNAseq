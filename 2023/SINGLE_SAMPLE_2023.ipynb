{
 "cells": [
  {
   "cell_type": "markdown",
   "id": "bcda4a6d-a171-4f50-bc07-049f5782568e",
   "metadata": {
    "tags": []
   },
   "source": [
    "# 10x scRNA-seq analysis pipeline module 1"
   ]
  },
  {
   "cell_type": "markdown",
   "id": "ab87fb55-247e-4eb4-9cec-ebbb78cf52b1",
   "metadata": {},
   "source": [
    "__In this notebook we will import the raw count matrix ([Per-molecule read information](https://support.10xgenomics.com/single-cell-gene-expression/software/pipelines/latest/output/overview) ) and do some basic inspection of read distributions as well as indentify empty droplets and doublets__ \n",
    "\n",
    "__INPUT__  \n",
    ">>raw count matrix (i.e. H5 file) \n",
    "\n",
    "\n",
    "__OUTPUT__\n",
    ">>[R singlecell data object](https://bioconductor.org/packages/release/bioc/vignettes/SingleCellExperiment/inst/doc/intro.html) conataining raw reads -- after exclusion of empty droplets, doublets, cells with high fraction of mt-RNA, and genes with low total read count  \n",
    "covariate file inculding fraction mtRNA and the library size (total UMI count) of each cell\n",
    "\n"
   ]
  },
  {
   "cell_type": "code",
   "execution_count": null,
   "id": "adc16e11-b0eb-4907-bfef-ed9247a40aca",
   "metadata": {},
   "outputs": [],
   "source": [
    "rm(list=ls())\n",
    "sessionInfo()\n",
    "getwd()\n",
    "#setwd(\"/gpfs/data/fs71707/dsam/DARC//DARC/notebooks/\")"
   ]
  },
  {
   "cell_type": "code",
   "execution_count": null,
   "id": "2c85f7e8-8c1b-4beb-a1dd-d95be295da82",
   "metadata": {
    "tags": []
   },
   "outputs": [],
   "source": [
    "### looks like it has to be loaded in exact this order !!!!!\n",
    "library(Seurat)\n",
    "library(\"BiocGenerics\",lib.loc = \"/home/fs71707/dsam/R_packages/\")\n",
    "library(\"S4Vectors\",lib.loc = \"/home/fs71707/dsam/R_packages/\")\n",
    "library(\"IRanges\",lib.loc = \"/home/fs71707/dsam/R_packages/\")\n",
    "library(\"GenomeInfoDb\",lib.loc = \"/home/fs71707/dsam/R_packages/\")\n",
    "library(\"Biobase\",lib.loc = \"/home/fs71707/dsam/R_packages/\")\n",
    "library(\"GenomeInfoDb\",lib.loc = \"/home/fs71707/dsam/R_packages/\")\n",
    "library(\"IRanges\",lib.loc = \"/home/fs71707/dsam/R_packages/\")\n",
    "library(\"S4Vectors\",lib.loc = \"/home/fs71707/dsam/R_packages/\")\n",
    "library(\"matrixStats\",lib.loc = \"/home/fs71707/dsam/R_packages/\")\n",
    "library(\"MatrixGenerics\",lib.loc = \"/home/fs71707/dsam/R_packages/\")\n",
    "library(\"BiocGenerics\",lib.loc = \"/home/fs71707/dsam/R_packages/\")\n",
    "library(\"GenomicRanges\",lib.loc = \"/home/fs71707/dsam/R_packages/\")\n",
    "library(\"MatrixGenerics\",lib.loc = \"/home/fs71707/dsam/R_packages/\")\n",
    "library(\"matrixStats\",lib.loc = \"/home/fs71707/dsam/R_packages/\")\n",
    "library(\"MatrixGenerics\",lib.loc = \"/home/fs71707/dsam/R_packages/\")\n",
    "library(\"SummarizedExperiment\",lib.loc = \"/home/fs71707/dsam/R_packages/\")\n",
    "library(\"SingleCellExperiment\",lib.loc = \"/home/fs71707/dsam/R_packages/\")\n",
    "library(\"scuttle\",lib.loc = \"/home/fs71707/dsam/R_packages2/\")\n",
    "library(\"scran\",lib.loc = \"/home/fs71707/dsam/R_packages2/\")\n",
    "library(\"DropletUtils\", lib.loc = \"/home/fs71707/dsam/R_packages2/\")\n",
    "library(\"limma\",lib.loc = \"/home/fs71707/dsam/R_packages/\")\n",
    "library(\"BiocGenerics\",lib.loc = \"/home/fs71707/dsam/R_packages/\")\n",
    "library(\"AnnotationDbi\",lib.loc = \"/home/fs71707/dsam/R_packages2/\")\n",
    "library(\"org.Hs.eg.db\",lib.loc = \"/home/fs71707/dsam/R_packages2/\")\n",
    "library(\"SummarizedExperiment\",lib.loc = \"/home/fs71707/dsam/R_packages/\")\n",
    "library(\"ggplot2\",lib.loc = \"/home/fs71707/dsam/R_packages/\")"
   ]
  },
  {
   "cell_type": "code",
   "execution_count": null,
   "id": "c33d198b-e7e2-4444-8687-8821907c7e9e",
   "metadata": {},
   "outputs": [],
   "source": [
    "dir=c(\"/home/fs71707/dsam/data/DARC/DARC/data_june23/AD8_transcriptome/AD8rec/filtered_feature_bc_matrix/\")\n",
    "out=c(\"/home/fs71707/dsam/data/DARC/DARC/result/\")\n",
    "inter.dat=c(\"/home/fs71707/dsam/data/DARC/DARC/proc_data/\")\n",
    "w.dir=c(\"/home/fs71707/dsam/data/DARC/DARC/notebooks/\")\n",
    "sample_ID=c(\"AD8rec\")\n",
    "## make a QC-overview file\n",
    "\n",
    "metrics=c(\"input_file\",\"background_FDR\",\"cells\", \"mitochRNA_thresh\",\"mitochRNA_excl\",\n",
    "          \"doublets\",\"cells_post_QC\",\"genes_post_QC\",\"umi_per_gene\",\"genes_per_cell\",\"UMI_per_cell\",\"UMIs_in_top50_in_perc\",\"HVG_thresh_type\",\"HVG_thresh\",\n",
    "         \"HVG\",\"PCs\",\"PCs_assocTECH\",\"resolution\",\"cluster\",\"diffGenes_total\")\n",
    "overview=data.frame(metric=rep(NA,length(metrics)),sample=rep(NA,length(metrics)))\n",
    "colnames(overview)[2]=c(sample_ID)\n",
    "row.names(overview)=overview$metric=as.character(metrics)\n",
    "overview[\"input_file\",2]=as.character(dir)\n",
    "####. -------  we need to convert all gene IDs to standardised NCBI IDs \n",
    "file.exists(paste0(w.dir,\"Homo_sapiens.gene_info\"))             "
   ]
  },
  {
   "cell_type": "code",
   "execution_count": null,
   "id": "d4353e6e-2159-46de-b7de-953e22506076",
   "metadata": {},
   "outputs": [],
   "source": [
    "sce = read10xCounts(paste(dir))"
   ]
  },
  {
   "cell_type": "code",
   "execution_count": null,
   "id": "c341fd17-70c6-4745-847c-9655cc1a5268",
   "metadata": {},
   "outputs": [],
   "source": [
    "dim(sce)\n",
    "head(sce)\n",
    "head(rowData(sce))"
   ]
  },
  {
   "cell_type": "markdown",
   "id": "19da38b1-3193-4b63-aff5-181ec9393654",
   "metadata": {},
   "source": [
    "### convert to NCBI SYMBOL"
   ]
  },
  {
   "cell_type": "code",
   "execution_count": null,
   "id": "408e5c60-9bf4-4cd9-ab98-f9d262e782f2",
   "metadata": {},
   "outputs": [],
   "source": [
    "#library(\"AnnotationDbi\",lib.loc = \"/home/fs71707/mwielsch1/Jupyter-R/R_only/\")\n",
    "#library(\"org.Hs.eg.db\",lib.loc = \"/home/fs71707/mwielsch1/Jupyter-R/R_only/\") SCHON GELADEN\n",
    "r.names=as.vector(rownames(sce))\n",
    "annots = select(org.Hs.eg.db, keys=r.names, columns=\"SYMBOL\", keytype=\"ENSEMBL\")\n",
    "annots1=annots[!duplicated(annots$ENSEMBL),]       ##### here we remove the second Symbol entry per ENSG entry\n",
    "rownames(annots1)= as.character(annots1$ENSEMBL)\n",
    "annots1=annots1[as.character(r.names),]\n",
    "head(annots1)\n",
    "annots1$new = ifelse(is.na(annots1$SYMBOL), as.character(annots1$ENSEMBL), annots1$SYMBOL)\n",
    "head(annots1)\n",
    "length(r.names)\n",
    "head(r.names)\n",
    "dim(annots1)\n",
    "table(is.na(annots1$SYMBOL))"
   ]
  },
  {
   "cell_type": "code",
   "execution_count": null,
   "id": "264b2403-9c93-4a59-a2a3-fa9f71028bb3",
   "metadata": {},
   "outputs": [],
   "source": [
    "rowData(sce)$NCBI_clean=as.character(annots1$new)\n",
    "head(rowData(sce))"
   ]
  },
  {
   "cell_type": "code",
   "execution_count": null,
   "id": "de445640-eee3-40f1-8082-331951051de4",
   "metadata": {},
   "outputs": [],
   "source": [
    "rownames(sce)= as.character(rowData(sce)$Symbol)\n",
    "head(sce)\n",
    "head(rownames(sce),n=100)"
   ]
  },
  {
   "cell_type": "code",
   "execution_count": null,
   "id": "df8f0b09-c469-45e4-954c-9a27ab2fd435",
   "metadata": {},
   "outputs": [],
   "source": [
    "is.mito=grepl(\"MT-\",rownames(sce))\n",
    "perc_mt=apply(sce@assays@data$counts,2,function(x) sum(x[is.mito]/sum(x)))\n",
    "a=c(seq(0,1,by=0.02)[1:length(seq(0,max(perc_mt),by=0.02))-1],max(perc_mt))\n",
    "hist(perc_mt,breaks=a,freq=T,main=paste(\"Expression of mitochondrial genes\\n sample:\",sample_ID,sep=\" \"), ylab=c(\"number of cells\"),xlab=c(\"MT expression in %\"))\n",
    "abline(v=median(perc_mt),col=\"red\",lwd=2)\n",
    "abline(v=quantile(perc_mt,probs = seq(0,1,by=0.25))[2],col=\"green\",lty=2,lwd=2)  # 25%\n",
    "abline(v=quantile(perc_mt,probs = seq(0,1,by=0.25))[4],col=\"green\",lty=2,lwd=2)  # 75%\n",
    "abline(v=(median(perc_mt)+3*(mad(perc_mt))),col=\"blue\",lty=2,lwd=2)\n",
    "legend(\"right\", legend=c(\"median\", \"25% and 75% percentile\",\"outlier threshold (3xMAD)\"),\n",
    "       col=c(\"red\", \"green\",\"blue\"), lty=c(1,2,2),lwd=1.5, cex=0.8)\n",
    "              \n",
    "#######.   ------------------------------------\n",
    "jpeg(paste0(out,sample_ID,\"_mtRNA.jpeg\"))\n",
    "hist(perc_mt,breaks=a,freq=T,main=paste(\"Expression of mitochondrial genes\\n sample:\",sample_ID,sep=\" \"), ylab=c(\"number of cells\"),xlab=c(\"MT expression in %\"))\n",
    "abline(v=median(perc_mt),col=\"red\",lwd=2)\n",
    "abline(v=quantile(perc_mt,probs = seq(0,1,by=0.25))[2],col=\"green\",lty=2,lwd=2)  # 25%\n",
    "abline(v=quantile(perc_mt,probs = seq(0,1,by=0.25))[4],col=\"green\",lty=2,lwd=2)  # 75%\n",
    "abline(v=(median(perc_mt)+3*(mad(perc_mt))),col=\"blue\",lty=2,lwd=2)\n",
    "legend(\"right\", legend=c(\"median\", \"25% and 75% percentile\",\"outlier threshold (3xMAD)\"),\n",
    "       col=c(\"red\", \"green\",\"blue\"), lty=c(1,2,2),lwd=1.5, cex=0.8)\n",
    "              \n",
    "dev.off()             \n",
    "              \n",
    "## ------------     check and subset\n",
    "table(perc_mt < (median(perc_mt)+3*(mad(perc_mt))))\n",
    "thresh=median(perc_mt)+3*(mad(perc_mt))\n",
    "thresh=0.15\n",
    "exclude_mtDNA=table(perc_mt < thresh)[1]            \n",
    "sce1=sce[,perc_mt < thresh]\n",
    "overview[\"mitochRNA_thresh\",2]=thresh\n",
    "overview[\"mitochRNA_excl\",2]=exclude_mtDNA\n",
    "dim(sce1)"
   ]
  },
  {
   "cell_type": "markdown",
   "id": "2807af2a-93d0-46f4-9d71-3e846a2bdf13",
   "metadata": {},
   "source": [
    "### remove Doublets "
   ]
  },
  {
   "cell_type": "markdown",
   "id": "5d8843d2-302f-4e00-af93-ffe9613ca023",
   "metadata": {},
   "source": [
    "[Doublet cells](https://ltla.github.io/SingleCellThoughts/software/doublet_detection/bycell.html) for each cell are simultated and compared to the actual neighboing cells of the tested cell (this makes a score)\n",
    "* Force match corrects for RNA content of cells  \n",
    "* size factors and normalization is computed internally to avoid confusion  \n",
    "* This is what happens:  \n",
    "> 1. Simulate thousands of doublets by adding together two randomly chosen single-cell profiles.  \n",
    "> 2. For each original cell, compute the density of simulated doublets in the surrounding neighbourhood.  \n",
    "> 3. For each original cell, compute the density of other observed cells in the neighbourhood.  \n",
    "> 4. Return the ratio between the two densities as a “doublet score” for each cell.  \n",
    "\n",
    "\n",
    "so let's say we simmulated douplet cells\n",
    "> now for a particular cell we are looking at 100 neighbors  \n",
    "> densitiy of doublets for this cell is 30 that makes 30/100   \n",
    "> density of other cells is 70/100 than makes 70/100  \n",
    "> makes a score of 0.4 -- log10 of that  \n",
    ">> as the number of other cells goes down the score goes up  \n",
    "> process number of neigbors = now 200  \n",
    "  \n",
    "__cutoff should be around 4__"
   ]
  },
  {
   "cell_type": "code",
   "execution_count": null,
   "id": "5a3d4208-64fb-4b4a-836b-d739aa606022",
   "metadata": {},
   "outputs": [],
   "source": [
    "library(\"scDblFinder\",lib.loc = \"/home/fs71707/dsam/R_packages2/\")"
   ]
  },
  {
   "cell_type": "code",
   "execution_count": null,
   "id": "dfde30d3-2359-4e6d-8c30-3c4cca2e3137",
   "metadata": {},
   "outputs": [],
   "source": [
    "doublet_score=scDblFinder::computeDoubletDensity(sce1, k = 200)\n",
    "doub_score=doublet_score\n",
    "thresh=median(doub_score)+3*mad(doub_score)\n",
    "thresh=4\n",
    "hist(doub_score,breaks=25,main=\"Distribution of Doublet Scores\",xlab=\"log(doublet scores)\",ylab=c(\"number of cells\"))\n",
    "abline(v=thresh,col=\"blue\",lty=2,lwd=2)\n",
    "legend(\"topright\", legend=c(\"Doublet exclussion threshold\"),\n",
    "       col=c(\"blue\"), lty=c(2),lwd=1.5, cex=0.8)\n",
    "\n",
    "exclude_doublet=table(doub_score<thresh)[1]\n",
    "sce2=sce1[,doub_score<thresh]\n",
    "paste(\"in sample QC process we excluded\",exclude_mtDNA,\"samples due to hight Mitochondrial DNA proportion and\",\n",
    "      exclude_doublet,\"potential Doublet cells\",sep=\" \")\n",
    "paste(\"that leaves \", dim(sce2)[2], \"cells for further analysis\")\n",
    "overview[\"doublets\",2]=exclude_doublet\n",
    "#  --------------------------------------------------------    remove mitochndrial RNA assays \n",
    "#is.mito=grepl(\"MT-\",rownames(sce2@assays@data$counts))\n",
    "#perc_mt1=apply(sce2@assays@data$counts,2,function(x) sum(x[is.mito]/sum(x)))\n",
    "#paste(\"we excluded\", table(grepl(\"MT-\",rownames(sce2@assays@data$counts)))[2],\"mitochondiral genes\",sep=\" \")\n",
    "#sce2=sce2[!(grepl(\"MT-\",rownames(sce2@assays@data$counts))),]\n",
    "## --------------------------------------------------------------"
   ]
  },
  {
   "cell_type": "code",
   "execution_count": null,
   "id": "7c3d1c42-d272-40ae-8cd1-4791c8f1a82a",
   "metadata": {},
   "outputs": [],
   "source": [
    "exclude_doublet=table(doub_score<thresh)[1]\n",
    "sce2=sce1[,doub_score<thresh]\n",
    "paste(\"in sample QC process we excluded\",exclude_mtDNA,\"samples due to hight Mitochondrial DNA proportion and\",\n",
    "      exclude_doublet,\"potential Doublet cells\",sep=\" \")\n",
    "paste(\"that leaves \", dim(sce2)[2], \"cells for further analysis\")\n",
    "overview[\"doublets\",2]=exclude_doublet"
   ]
  },
  {
   "cell_type": "markdown",
   "id": "70453f8a-0ee4-471d-acb5-0f5519316b06",
   "metadata": {},
   "source": [
    "### UMI per cell (library size)"
   ]
  },
  {
   "cell_type": "code",
   "execution_count": null,
   "id": "aa1dce04-5e4f-4f1e-a56c-5f4288e9fa03",
   "metadata": {},
   "outputs": [],
   "source": [
    "umi_per_cell=apply(sce@assays@data$counts,2,sum)\n",
    "median(umi_per_cell)"
   ]
  },
  {
   "cell_type": "code",
   "execution_count": null,
   "id": "ffaa370d-8a37-40a5-852e-9bb1d397c952",
   "metadata": {},
   "outputs": [],
   "source": [
    "umi_per_cell=apply(sce@assays@data$counts,2,sum)\n",
    "lib_size_mad=mad(umi_per_cell)\n",
    "a=c(seq(0,max(umi_per_cell/1000),by=3)[1:length(seq(0,max(umi_per_cell/1000),by=3))-1],max(umi_per_cell/1000))\n",
    "options(warn=-1)\n",
    "hist(umi_per_cell/1000,freq=T,\n",
    "     main=paste(\"UMI per cell (library size)\\n sample:\",sample_ID,sep=\" \"), ylab=c(\"number of cells\"),xlab=c(\"UMI per cell in thousands\"))\n",
    "abline(v=median(umi_per_cell/1000),col=\"red\",lwd=2)\n",
    "abline(v=quantile(umi_per_cell/1000,probs = seq(0,1,by=0.25))[2],col=\"green\",lty=2,lwd=2)  # 25%\n",
    "abline(v=quantile(umi_per_cell/1000,probs = seq(0,1,by=0.25))[4],col=\"green\",lty=2,lwd=2)  # 75%\n",
    "#abline(v=(median(umi_per_cell)+5*(mad(umi_per_cell)))/1000,col=\"blue\",lty=2,lwd=2)\n",
    "legend(\"right\", legend=c(paste0(\"median = \",median(umi_per_cell/1000)), \"25% and 75% percentile\"),\n",
    "       col=c(\"red\", \"green\"), lty=1:2,lwd=1.5, cex=0.8, title=\"width of each bin = 3\",title.adj=0)\n",
    "\n",
    "jpeg(paste0(out,sample_ID,\"_LIBRARY_SIZE.jpeg\"))\n",
    "hist(umi_per_cell/1000,breaks=a,freq=T,\n",
    "     main=paste(\"UMI per cell (library size)\\n sample:\",sample_ID,sep=\" \"), ylab=c(\"number of cells\"),xlab=c(\"UMI per cell in thousands\"))\n",
    "abline(v=median(umi_per_cell/1000),col=\"red\",lwd=2)\n",
    "abline(v=quantile(umi_per_cell/1000,probs = seq(0,1,by=0.25))[2],col=\"green\",lty=2,lwd=2)  # 25%\n",
    "abline(v=quantile(umi_per_cell/1000,probs = seq(0,1,by=0.25))[4],col=\"green\",lty=2,lwd=2)  # 75%\n",
    "#abline(v=(median(umi_per_cell)+5*(mad(umi_per_cell)))/1000,col=\"blue\",lty=2,lwd=2)\n",
    "legend(\"right\", legend=c(paste0(\"median = \",median(umi_per_cell/1000)), \"25% and 75% percentile\"),\n",
    "       col=c(\"red\", \"green\"), lty=1:2,lwd=1.5, cex=0.8, title=\"width of each bin = 3\",title.adj=0)\n",
    "\n",
    "dev.off()"
   ]
  },
  {
   "cell_type": "markdown",
   "id": "156d3221-27b4-446e-a22d-69e44552bd71",
   "metadata": {},
   "source": [
    "### Genes per cell"
   ]
  },
  {
   "cell_type": "code",
   "execution_count": null,
   "id": "c2f4b88b-0c02-48a9-925d-1e1436d65914",
   "metadata": {},
   "outputs": [],
   "source": [
    "feature_per_cell=apply(sce@assays@data$counts,2,function(x)table(x %in% c(0))[1])\n",
    "\n",
    "a=c(seq(0,max(feature_per_cell),by=200)[1:length(seq(0,max(feature_per_cell),by=200))-1],max(feature_per_cell))\n",
    "hist(feature_per_cell,breaks=a,freq=T,\n",
    "     main=paste(\"Feature per cell\\n sample:\",sample_ID,sep=\" \"), ylab=c(\"number of cells\"),xlab=c(\"features per cell\"))\n",
    "abline(v=median(feature_per_cell),col=\"red\",lwd=2)\n",
    "abline(v=quantile(feature_per_cell,probs = seq(0,1,by=0.25))[2],col=\"green\",lty=2,lwd=2)  # 25%\n",
    "abline(v=quantile(feature_per_cell,probs = seq(0,1,by=0.25))[4],col=\"green\",lty=2,lwd=2)  # 75%\n",
    "legend(\"right\", legend=c(\"median\", \"25% and 75% percentile\"),\n",
    "       col=c(\"red\", \"green\"), lty=1:2,lwd=1.5, cex=0.8, title=\"width of each bin = 200\",title.adj=0)"
   ]
  },
  {
   "cell_type": "markdown",
   "id": "a08a7a06-419d-4d86-b144-2e00d0823416",
   "metadata": {},
   "source": [
    "## saturation plot  \n",
    ">should get flat at the right end  \n",
    ">if it looks linear --  coverage is too low"
   ]
  },
  {
   "cell_type": "code",
   "execution_count": null,
   "id": "beed519f-bdb6-4610-ae8d-157ce19fb6c5",
   "metadata": {},
   "outputs": [],
   "source": [
    "#library(\"ggplot2\",lib.loc = \"/home/fs71707/mwielsch1/Jupyter-R/R_only/\")\n",
    "overview[\"UMI_per_cell\",2]=mean(umi_per_cell)\n",
    "overview[\"genes_per_cell\",2]=mean(feature_per_cell)\n",
    "sat=as.data.frame(cbind(feature_per_cell,umi_per_cell))\n",
    "sat=sat[order(sat$feature_per_cell),]\n",
    "colnames(sat)=c(\"GENES\",\"nUMI\")\n",
    "p=ggplot(sat,aes(x=nUMI,y=GENES)) +\n",
    "geom_point(alpha=0.1)+\n",
    "stat_smooth(method=loess)\n",
    "p\n",
    "jpeg(paste0(out,sample_ID,\"_saturation.jpeg\"))\n",
    "print(p)\n",
    "dev.off()"
   ]
  },
  {
   "cell_type": "markdown",
   "id": "2bc8103b-1dc2-4d80-bf4d-4954f9479949",
   "metadata": {},
   "source": [
    "> #### UMI per feature"
   ]
  },
  {
   "cell_type": "code",
   "execution_count": null,
   "id": "372b6479-0ea1-40c8-8add-2aaf00080838",
   "metadata": {},
   "outputs": [],
   "source": [
    "umi_per_feature=apply(sce2@assays@data$counts,1,sum)\n",
    "ave_per_feature=apply(sce2@assays@data$counts,1,mean)\n",
    "total=dim(sce2)[2]\n",
    "one=format(mean(umi_per_feature[log10(ave_per_feature)<log10(0.2)]),digits=1)\n",
    "two=format(mean(umi_per_feature[log10(ave_per_feature)<log10(0.05)]),digits=1)\n",
    "drei=format(mean(umi_per_feature[log10(ave_per_feature)<log10(0.01)]),digits=1)\n",
    "four=format(mean(umi_per_feature[log10(ave_per_feature)<log10(0.005)]),digits=1)\n",
    "\n",
    "hist(log10(ave_per_feature),breaks=50,main=c(\"Average expression per feature\"),xlab=c(\"log10(mean expression per feature)\"),\n",
    "     ylab=c(\"number of features\"))\n",
    "abline(v=log10(0.2),col=\"blue\",lty=2,lwd=2)\n",
    "abline(v=log10(0.05),col=\"green\",lty=2,lwd=2)\n",
    "abline(v=log10(0.01),col=\"red\",lty=2,lwd=2)\n",
    "abline(v=log10(0.005),col=\"black\",lty=2,lwd=2)\n",
    "\n",
    "legend(\"topright\", legend=c(paste(\"equals\",four,\"reads distibuted over\",total,\"cells\"), \n",
    "                            paste(\"equals\",drei,\"reads distibuted over\",total,\"cells\"),\n",
    "                            paste(\"equals\",two,\"reads distibuted over\",total,\"cells\"),\n",
    "                            paste(\"equals\",one,\"reads distibuted over\",total,\"cells\")),\n",
    "       col=c(\"black\", \"red\",\"green\",\"blue\"), lty=c(2),lwd=1.5, cex=0.8, title=\"expression in numbers\",title.adj=0)\n",
    "\n",
    "jpeg(paste0(out,sample_ID,\"_UMI_per_feature.jpeg\"))\n",
    "hist(log10(ave_per_feature),breaks=50,main=c(\"Average expression per feature\"),xlab=c(\"log10(mean expression per feature)\"),\n",
    "     ylab=c(\"number of features\"))\n",
    "abline(v=log10(0.2),col=\"blue\",lty=2,lwd=2)\n",
    "abline(v=log10(0.05),col=\"green\",lty=2,lwd=2)\n",
    "abline(v=log10(0.01),col=\"red\",lty=2,lwd=2)\n",
    "abline(v=log10(0.005),col=\"black\",lty=2,lwd=2)\n",
    "\n",
    "legend(\"topright\", legend=c(paste(\"equals\",four,\"reads distibuted over\",total,\"cells\"), \n",
    "                            paste(\"equals\",drei,\"reads distibuted over\",total,\"cells\"),\n",
    "                            paste(\"equals\",two,\"reads distibuted over\",total,\"cells\"),\n",
    "                            paste(\"equals\",one,\"reads distibuted over\",total,\"cells\")),\n",
    "       col=c(\"black\", \"red\",\"green\",\"blue\"), lty=c(2),lwd=1.5, cex=0.8, title=\"expression in numbers\",title.adj=0)\n",
    "\n",
    "dev.off()"
   ]
  },
  {
   "cell_type": "code",
   "execution_count": null,
   "id": "8a6421a1-149e-4493-9d57-fb3815cc16b6",
   "metadata": {},
   "outputs": [],
   "source": [
    "log10(0.001)"
   ]
  },
  {
   "cell_type": "code",
   "execution_count": null,
   "id": "bc11741e-151f-4761-b70e-6aa304e68e67",
   "metadata": {},
   "outputs": [],
   "source": [
    "thresh1=c(0.001)\n",
    "paste(\"applying a threshold of\",thresh1, \"will remove\",table(log10(ave_per_feature)>log10(thresh1))[1], \"genes\",sep=\" \")\n",
    "paste(\" and leave\",table(log10(ave_per_feature)>log10(thresh1))[2],\"in our analysis\",sep=\" \")\n",
    "overview[\"genes_post_QC\",2]=table(log10(ave_per_feature)>log10(thresh1))[2]\n",
    "sce3=sce2[log10(ave_per_feature)>log10(thresh1),] "
   ]
  },
  {
   "cell_type": "code",
   "execution_count": null,
   "id": "6a46bf4a-1dba-44aa-8692-3fc6e0727042",
   "metadata": {},
   "outputs": [],
   "source": [
    "dim(sce) #ROH\n",
    "dim(sce1) #ohne Mt\n",
    "dim(sce2) #ohne dbl\n",
    "dim(sce3) #ohne zu niedrig expr gene"
   ]
  },
  {
   "cell_type": "code",
   "execution_count": null,
   "id": "a1ce86f4-2c95-4c57-8d42-c96710fb1786",
   "metadata": {},
   "outputs": [],
   "source": [
    "head(sce3)\n",
    "umi_per_cell=apply(sce3@assays@data$counts,2,sum)\n",
    "head(umi_per_cell)"
   ]
  },
  {
   "cell_type": "code",
   "execution_count": null,
   "id": "441e57dd-9414-402c-8d1e-5b3b779a9a97",
   "metadata": {},
   "outputs": [],
   "source": [
    "table(umi_per_cell<1000)[1]\n",
    "sce4=sce3[,umi_per_cell>999]\n",
    "dim(sce3)\n",
    "dim(sce4)\n",
    "overview[\"cells_post_QC\",2]=dim(sce4)[2]"
   ]
  },
  {
   "cell_type": "code",
   "execution_count": null,
   "id": "ee1cdb27-b6f1-4c99-9288-bf4a906e571f",
   "metadata": {},
   "outputs": [],
   "source": [
    "dim(sce) #ROH\n",
    "dim(sce1) #ohne Mt\n",
    "dim(sce2) #ohne dbl\n",
    "dim(sce3) #ohne zu niedrig expr gene\n",
    "dim(sce4) #umi gefiltert"
   ]
  },
  {
   "cell_type": "code",
   "execution_count": null,
   "id": "44e27e77-f418-466d-90d7-32c1b281617b",
   "metadata": {},
   "outputs": [],
   "source": [
    "save(inter.dat, file=paste0(inter.dat,\"initialQC_\",sample_ID,\".RData\"))"
   ]
  },
  {
   "cell_type": "code",
   "execution_count": null,
   "id": "49dd74a1-f551-49ec-b2cd-a9dd479d5608",
   "metadata": {},
   "outputs": [],
   "source": [
    "save(sce4,file=paste0(inter.dat,\"initialQC_\",sample_ID,\".RData\"))\n",
    "umi_per_feature=apply(sce4@assays@data$counts,1,sum)\n",
    "overview[\"umi_per_gene\",2]=median(umi_per_feature)\n",
    "write.table(overview,file=paste0(inter.dat,\"initialQC_\",sample_ID,\".txt\"),sep=\"\\t\",col.names=T,row.names=F,quote=F)"
   ]
  },
  {
   "cell_type": "markdown",
   "id": "a9b0d85c-986f-49b3-83e4-d6c14f402304",
   "metadata": {
    "tags": []
   },
   "source": [
    "# restart and change to Seurat Image "
   ]
  },
  {
   "cell_type": "code",
   "execution_count": null,
   "id": "2432535b-780d-484c-a70b-fdd93627cbce",
   "metadata": {},
   "outputs": [],
   "source": [
    "library(Seurat)\n",
    "library(\"SingleCellExperiment\",lib.loc=\"/home/fs71707/dsam/R_packages/\", character.only=TRUE)\n",
    "#library(\"dplyr\",lib.loc=\"/home/fs71707/dsam/R_packages/\", character.only=TRUE)\n",
    "library(\"ggplot2\", lib.loc =\"/home/fs71707/dsam/R_packages/\", character.only=TRUE)\n",
    "#library(\"ggtree\", lib.loc=\"/home/fs71707/dsam/R_packages/\", character.only=TRUE)\n",
    "library(\"cowplot\", lib.loc=\"/home/fs71707/dsam/R_packages/\", character.only=TRUE)\n",
    "library(\"pROC\",lib.loc = \"/home/fs71707/dsam/R_packages2/\", character.only = TRUE)\n",
    "library(\"Matrix\",lib.loc = \"/home/fs71707/dsam/R_packages2\", character.only = TRUE)\n",
    "library(\"enrichR\",lib.loc = \"/home/fs71707/dsam/R_packages2\", character.only = TRUE)"
   ]
  },
  {
   "cell_type": "code",
   "execution_count": null,
   "id": "31c5ac35-8341-4d34-a7cc-4af630c4ac6a",
   "metadata": {},
   "outputs": [],
   "source": [
    "library(\"dplyr\",lib.loc=\"/home/fs71707/dsam/R_packages2/\", character.only=TRUE)"
   ]
  },
  {
   "cell_type": "code",
   "execution_count": null,
   "id": "8f9e0afc-7d82-4b03-af1d-b37f1414eae1",
   "metadata": {},
   "outputs": [],
   "source": [
    "library(\"ggtree\", lib.loc=\"/home/fs71707/dsam/R_packages2/\", character.only=TRUE)"
   ]
  },
  {
   "cell_type": "code",
   "execution_count": null,
   "id": "35f2aad6-3d92-40a5-a2de-edffbf833391",
   "metadata": {},
   "outputs": [],
   "source": [
    "dir=c(\"/home/fs71707/dsam/data/DARC/DARC/data_june23/AD8_transcriptome/AD8rec/filtered_feature_bc_matrix/\")\n",
    "out=c(\"/home/fs71707/dsam/data/DARC/DARC/result/\")\n",
    "inter.dat=c(\"/home/fs71707/dsam/data/DARC/DARC/proc_data/\")\n",
    "w.dir=c(\"/home/fs71707/dsam/data/DARC/DARC/notebooks/\")\n",
    "sample_ID=c(\"AD8rec\")"
   ]
  },
  {
   "cell_type": "code",
   "execution_count": null,
   "id": "a843a62c-870b-4cab-82ef-8b8df7983c1b",
   "metadata": {},
   "outputs": [],
   "source": [
    "overview=read.table(paste0(inter.dat,\"initialQC_\",sample_ID,\".txt\"),header=T)\n",
    "rownames(overview)=as.character(overview$metric)\n",
    "load(paste0(inter.dat,\"initialQC_\",sample_ID,\".RData\"))\n",
    "ls()\n",
    "head(overview)"
   ]
  },
  {
   "cell_type": "code",
   "execution_count": null,
   "id": "269cb512-91b6-4a84-9160-d55094b7bb60",
   "metadata": {},
   "outputs": [],
   "source": [
    "## update assay names to ready for merge\n",
    "cell.names=colData(sce4)[,\"Barcode\"]\n",
    "head(cell.names)\n",
    "cell.names2=gsub(\"-1\",\"-8\",as.character(cell.names))\n",
    "head(cell.names2)\n",
    "colnames(sce4)=cell.names2"
   ]
  },
  {
   "cell_type": "code",
   "execution_count": null,
   "id": "e1a2934d-711b-427a-b651-b716289ea745",
   "metadata": {},
   "outputs": [],
   "source": [
    "mat=assay(sce4)\n",
    "dat=CreateSeuratObject(mat,assay = \"RNA\")\n",
    "dat[[\"percent.mt\"]] = PercentageFeatureSet(dat, pattern = \"^MT-\")\n",
    "dat[[\"batch\"]] = rep(8,ncol(dat))\n",
    "str(dat)"
   ]
  },
  {
   "cell_type": "markdown",
   "id": "2215ef04-9942-4a07-a18b-fa1a486c79d4",
   "metadata": {},
   "source": [
    "## SEURAT SCT standard integration and clustering "
   ]
  },
  {
   "cell_type": "markdown",
   "id": "94549aff-17ec-451b-b42a-0729cb6204d8",
   "metadata": {},
   "source": [
    "### regress out expression influenced by cell cycle  \n",
    ">* the idea is to [calculate cell cycle phase scores](https://satijalab.org/seurat/archive/v3.1/cell_cycle_vignette.html) based on canonical markers, and then regress these out of the data during pre-processing  \n",
    ">* scores for each cell are stored in meta data. \n",
    ">* we will be regressing out the difference between the G2M and S phase scores  \n",
    ">* this way signals separating non-cycling cells and cycling cells will be maintained, but differences in cell cycle phase amongst proliferating cells (which are often uninteresting), will be regressed out of the data  "
   ]
  },
  {
   "cell_type": "code",
   "execution_count": null,
   "id": "71323573-b16d-4619-9ff5-b1e0d69b4910",
   "metadata": {},
   "outputs": [],
   "source": [
    "## this initial round is done just to calculate cell cycle scores\n",
    "dat1=SCTransform(dat, variable.features.n = NULL,conserve.memory = F, return.only.var.genes = F)\n",
    "s.genes = cc.genes$s.genes   ## these lists are loaded with Seurat\n",
    "g2m.genes = cc.genes$g2m.genes\n",
    "dat1 =CellCycleScoring(dat1, s.features = s.genes, g2m.features = g2m.genes, set.ident = TRUE)\n",
    "dat1$CC.Difference = dat1$S.Score - dat1$G2M.Score\n",
    "head(dat1@meta.data)"
   ]
  },
  {
   "cell_type": "code",
   "execution_count": null,
   "id": "74868409-c8ef-4ef5-bbed-467c33108a5d",
   "metadata": {},
   "outputs": [],
   "source": [
    "dat1=SCTransform(dat1, variable.features.n = NULL,vars.to.regress=c(\"nCount_RNA\",\"percent.mt\",\"CC.Difference\"),\n",
    "            conserve.memory = F, return.only.var.genes = F) %>% RunPCA(verbose = TRUE)"
   ]
  },
  {
   "cell_type": "code",
   "execution_count": null,
   "id": "68471a69-1b2d-4dc5-99f1-5c4d266db35c",
   "metadata": {},
   "outputs": [],
   "source": [
    "Seurat::DimHeatmap(dat1, dims =1 , cells = 500, balanced = TRUE)  ### plot the top 500 cells (highest scores)\n",
    "Seurat::DimHeatmap(dat1, dims = 2, cells = 500, balanced = TRUE)  ### plot the top 500 cells (highest scores)\n",
    "Seurat::DimHeatmap(dat1, dims = 3, cells = 500, balanced = TRUE)  ### plot the top 500 cells (highest scores)\n",
    "Seurat::DimHeatmap(dat1, dims = 5, cells = 500, balanced = TRUE)  ### plot the top 500 cells (highest scores)\n",
    "Seurat::ElbowPlot(dat1)"
   ]
  },
  {
   "cell_type": "code",
   "execution_count": null,
   "id": "a23e4fec-e981-4055-88b0-04d9df1d6c9c",
   "metadata": {},
   "outputs": [],
   "source": [
    "sig_PCs=c(1:12)\n",
    "dat1 <- RunUMAP(dat1,dims = sig_PCs)\n",
    "sce.seurat1=Seurat::FindNeighbors(dat1,reduction = \"pca\",k.param = 20,dims=sig_PCs) \n",
    "overview[\"HVG_thresh_type\",2]=c(\"Seurat-SCT\")\n",
    "overview[\"HVG\",2]=dim(sce.seurat1@reductions$pca@feature.loadings)[1]\n",
    "overview[\"PCs\",2]=max(sig_PCs)"
   ]
  },
  {
   "cell_type": "code",
   "execution_count": null,
   "id": "a1caf165-a1b4-4225-9bf8-bdb2afa5b944",
   "metadata": {},
   "outputs": [],
   "source": [
    "Idents(sce.seurat1)=as.factor(sce.seurat1@meta.data$Phase)\n",
    "jpeg(paste0(out,sample_ID,\"_cell_cycle.jpeg\"))\n",
    "UMAPPlot(sce.seurat1)\n",
    "dev.off()\n",
    "UMAPPlot(sce.seurat1)"
   ]
  },
  {
   "cell_type": "code",
   "execution_count": null,
   "id": "cef04163-d279-4c7c-b456-f4fcfcbc4e2f",
   "metadata": {},
   "outputs": [],
   "source": [
    "i=c(\"PTPRC\")\n",
    "p=FeaturePlot(sce.seurat1, features = as.character(i),min.cutoff=0.1,max.cutoff=5)\n",
    "    print(p)"
   ]
  },
  {
   "cell_type": "code",
   "execution_count": null,
   "id": "59f71796-aad0-4bea-936e-9233a03c9b37",
   "metadata": {},
   "outputs": [],
   "source": [
    "i=c(\"COL4A1\")\n",
    "p=FeaturePlot(sce.seurat1, features = as.character(i),min.cutoff=0.1,max.cutoff=5)\n",
    "    print(p)"
   ]
  },
  {
   "cell_type": "code",
   "execution_count": null,
   "id": "b59e4499-dd35-4801-817d-53176e599da9",
   "metadata": {},
   "outputs": [],
   "source": [
    "i=c(\"CD207\")\n",
    "p=FeaturePlot(sce.seurat1, features = as.character(i),min.cutoff=0.1,max.cutoff=5)\n",
    "    print(p)"
   ]
  },
  {
   "cell_type": "code",
   "execution_count": null,
   "id": "6893e4de-742a-42e3-b209-250d0d17a870",
   "metadata": {},
   "outputs": [],
   "source": [
    "clust_test=function(sce) {\n",
    "  cont=as.data.frame(matrix(NA,nrow=length(unique(Idents(sce))), ncol=4))\n",
    "  colnames(cont)=c(\"cluster\",\"cells\",\"mean_total_UMI\",\"mean_features\")\n",
    "  i=1\n",
    "  for (k in unique(Idents(sce))) {\n",
    "    print(c(k))\n",
    "    cont[i,1]=c(k)\n",
    "    dat23=sce@assays$RNA@counts[,Idents(sce)%in%c(k)]\n",
    "    cont[i,2]=table(Idents(sce)%in%c(k))[2]\n",
    "    cont[i,3]=mean(apply(dat23,2,function(x)sum(x)))\n",
    "    cont[i,4]=mean(apply(dat23,2,function(x)table(x %in% c(0))[1]))\n",
    "    i=i+1\n",
    "  }\n",
    "  cont=cont[order(as.numeric(as.character(cont$cluster))),]\n",
    "  return(cont)\n",
    "}"
   ]
  },
  {
   "cell_type": "code",
   "execution_count": null,
   "id": "2627951a-4d35-4919-ba36-bb5784b16de9",
   "metadata": {},
   "outputs": [],
   "source": [
    "library(\"cowplot\", lib.loc=\"/home/fs71707/dsam/R_packages/\", character.only=TRUE)"
   ]
  },
  {
   "cell_type": "code",
   "execution_count": null,
   "id": "595765e5-756d-43ac-8709-947f4b46aebf",
   "metadata": {},
   "outputs": [],
   "source": [
    "clust.res=0.2\n",
    "sce.seurat1=Seurat::FindClusters(sce.seurat1,resolution=clust.res)  \n",
    "sce.seurat1= Seurat::BuildClusterTree(sce.seurat1,dims=sig_PCs)\n",
    "#sce.seurat1 <- RunUMAP(sce.seurat1, dims = sig_PCs)\n",
    "tree1=sce.seurat1@tools$`Seurat::BuildClusterTree`\n",
    "pl=Seurat::DimPlot(sce.seurat1, reduction = \"umap\")\n",
    "pl= pl+ ggtitle(paste(\"UMAP and phylo-tree visualization of cell clusters \\n at resolution\",clust.res,sep=\" \")) +\n",
    "  theme (plot.title = element_text(color=\"black\", size=14, face=\"bold\",hjust = 0.5))\n",
    "pl.matrix=ggplot_build(pl)$data[1][[1]]\n",
    "uni_pl_mat=pl.matrix[!duplicated(pl.matrix$group),]\n",
    "tr=ggtree(tree1,layout=\"circular\") + geom_tiplab(aes(angle=angle), lwd=5,offset=.5,fontface=\"bold\")  \n",
    "plot_grid(pl, tr, align = \"v\", nrow = 2, rel_heights = c(2/3, 1/3),axis=\"l\")    \n",
    "jpeg(paste0(out,sample_ID,\"CLUSTERING_OVERVIEW.jpeg\"))\n",
    " plot_grid(pl, tr, align = \"v\", nrow = 2, rel_heights = c(2/3, 1/3),axis=\"l\")\n",
    "dev.off()\n",
    "res1=clust_test(sce.seurat1)\n",
    "res1"
   ]
  },
  {
   "cell_type": "code",
   "execution_count": null,
   "id": "96fe0f85-6c8b-492c-a0e6-b15d08c9ccb1",
   "metadata": {},
   "outputs": [],
   "source": [
    "overview[\"cluster\",2]=nrow(res1)\n",
    "overview[\"resolution\",2]=c(clust.res)\n",
    "save(sce.seurat1,file=paste0(inter.dat,\"Seurat_final_\",sample_ID, \".RData\"))\n",
    "write.table(overview,file=paste0(inter.dat,\"initialQC_\",sample_ID,\".txt\"),sep=\"\\t\",col.names=T,row.names=F,quote=F)"
   ]
  },
  {
   "cell_type": "markdown",
   "id": "3650ae91-2227-4c55-9ab7-49fa190d42ae",
   "metadata": {},
   "source": [
    "## Association testing NOW !!"
   ]
  },
  {
   "cell_type": "code",
   "execution_count": null,
   "id": "ab45c874-c152-4d01-a313-281c530199bf",
   "metadata": {},
   "outputs": [],
   "source": [
    "sce.seurat=sce.seurat1\n",
    "clust.n=as.character(unique(Idents(sce.seurat)))\n",
    "clust.size=table(Idents(sce.seurat))\n",
    "clust.size\n",
    "\n",
    "clust.n=as.character(unique(Idents(sce.seurat)))"
   ]
  },
  {
   "cell_type": "code",
   "execution_count": null,
   "id": "846ee0c6-4917-455c-aa62-a054300883fa",
   "metadata": {},
   "outputs": [],
   "source": [
    "library(\"pROC\",lib.loc = \"/home/fs71707/dsam/R_packages2/\", character.only = TRUE)\n",
    "library(\"Matrix\",lib.loc = \"/home/fs71707/dsam/R_packages2/\", character.only = TRUE)\n",
    "library(\"enrichR\",lib.loc = \"/home/fs71707/dsam/R_packages2/\", character.only = TRUE)"
   ]
  },
  {
   "cell_type": "code",
   "execution_count": null,
   "id": "73a9df17-65c7-40a3-bed5-0f65a95c42e4",
   "metadata": {},
   "outputs": [],
   "source": [
    "# ====================================.  prep input data\n",
    "clust.n=as.character(unique(Idents(sce.seurat)))\n",
    "clust.size=table(Idents(sce.seurat))\n",
    "clust.size\n",
    "max_per_cluster=c(5000)  \n",
    "clust.n=as.character(unique(Idents(sce.seurat)))\n",
    "rm(res_wilcox)\n",
    "\n",
    "### ---------------------------------------------   one vs one for all cluster\n",
    "for (i in clust.n) {        ##  case loop\n",
    "     contr.clust=clust.n[!clust.n %in% i]\n",
    "    for (k in contr.clust) {    ## contr loop\n",
    "        if (i == k) {\n",
    "            next\n",
    "        }  \n",
    "         print(paste(\"computing markers for cluster\", i,\"compared to\",k,\"now!!!\", sep=\" \"))\n",
    "          seurat_cluster_0 = FindMarkers(sce.seurat, ident.1 = i, ident.2 = k,test.use = \"wilcox\",\n",
    "                                 logfc.threshold = 0.15,max.cells.per.ident = max_per_cluster,\n",
    "                                min.cells.group=30,only.pos = TRUE)  # min.pct = 0.3\n",
    "          seurat_cluster_0=seurat_cluster_0[seurat_cluster_0$p_val_adj < 0.05,]\n",
    "        seurat_cluster_0$ID=as.character(rownames(seurat_cluster_0))\n",
    "          seurat_cluster_0$case_CLUSTER=rep(i,nrow(seurat_cluster_0))\n",
    "          seurat_cluster_0$contr_CLUSTER=rep(k,nrow(seurat_cluster_0))\n",
    "          seurat_cluster_0$clust_size=rep(as.numeric(clust.size[i]),nrow(seurat_cluster_0))\n",
    "          sce.case=sce.seurat[rownames(sce.seurat) %in%  as.character(seurat_cluster_0$ID),Idents(sce.seurat)%in%c(i)]\n",
    "          sce.contr=sce.seurat[rownames(sce.seurat) %in%  as.character(seurat_cluster_0$ID),Idents(sce.seurat)%in%c(k)]\n",
    "            seurat_cluster_0=seurat_cluster_0[as.character(rownames(sce.case)), ]\n",
    "            seurat_cluster_0$case_total_umi=Matrix::rowSums(sce.case@assays$RNA@counts)\n",
    "            seurat_cluster_0$contr_total_umi=Matrix::rowSums(sce.contr@assays$RNA@counts)\n",
    "            ##.   ------------- get AUC\n",
    "            auc.sce=merge(sce.case,sce.contr)\n",
    "            seurat_cluster_0=seurat_cluster_0[as.character(rownames(auc.sce)), ]\n",
    "            response=rep(1,length(Idents(auc.sce)))                                       \n",
    "            response[Idents(auc.sce)%in% c(i)]=2\n",
    "            seurat_cluster_0$AUC=apply(auc.sce@assays$SCT@data,1,function(x)auc(response,as.numeric(x),quiet=T,allow.invalid.partial.auc.correct=F))             \n",
    "        if(!exists(\"res_wilcox\")){\n",
    "            res_wilcox=seurat_cluster_0\n",
    "          }else {\n",
    "            res_wilcox=rbind(res_wilcox,seurat_cluster_0)\n",
    "          }\n",
    "      rm(seurat_cluster_0,response,sce.contr,sce.case,auc.sce)\n",
    "    } ## contr loop\n",
    "}  ## case loop                                                                  "
   ]
  },
  {
   "cell_type": "code",
   "execution_count": null,
   "id": "9dc81e02-1957-4cce-9315-ae686a81dad2",
   "metadata": {},
   "outputs": [],
   "source": [
    "save(res_wilcox,file=paste(out,\"ASSOC_result_cluster_\",sample_ID, \".RData\"))\n",
    "head(res_wilcox)"
   ]
  },
  {
   "cell_type": "code",
   "execution_count": null,
   "id": "4f224130-4caf-4696-9ba0-944765b26c58",
   "metadata": {},
   "outputs": [],
   "source": [
    "enrich.lists=c('WikiPathways_2019_Human','KEGG_2019_Human' ,'Reactome_2016','BioPlanet_2019','Human_Gene_Atlas','ARCHS4_Tissues',\n",
    "               'Mouse_Gene_Atlas','GO_Biological_Process_2018','GO_Molecular_Function_2018','MSigDB_Hallmark_2020')\n",
    "screen.overlaps=c('MSigDB_Hallmark_2020','Human_Gene_Atlas','ARCHS4_Tissues','Mouse_Gene_Atlas','KEGG_2019_Human')\n",
    "###      ----------------------   NEW CURRENT VERSION.  !!!!!!!!!\n",
    "tiering_thresh=data.frame(case_perc=c(0.5,0.3),contr_perc=c(0.05,0.05))\n",
    "AUC_tier3=c(0.7)\n",
    "lgFC_tier3=c(0.25)\n",
    "maxCONTR=length(unique(res_wilcox$contr_CLUSTER))-1\n",
    "markerN=5\n",
    "### ----------------------------- tiering function\n",
    "tiering=function(dat,markerN){\n",
    "    dat=dat[order(-dat$AUC),]\n",
    "    order.ID=dat$ID[!duplicated(dat$ID)]   ### returns them in order of apperance !\n",
    "    ok.ID=order.ID[1:markerN]\n",
    "    dat12=dat[dat$ID %in% as.character(ok.ID),]\n",
    "return(dat12)\n",
    "}\n",
    "##------------------------------------------\n",
    "all.cases=unique(res_wilcox$case_CLUSTER)\n",
    "for (k in all.cases) {\n",
    "    print(noquote(c('--------------------------------------------------------------------------------')))\n",
    "    print(noquote(paste0(\"--------------   processing cluster \",k,\" as CASES now !!   ------------------------\")))\n",
    "    ## -------------------------------------------------------  prep full MACR dataset\n",
    "    inter=res_wilcox[res_wilcox$case_CLUSTER %in% k,]\n",
    "    dim(inter)\n",
    "    for (t in c(\"TIER\",\"DUPL\",\"nameCONT\",\"panel\",\"panel_descr\",unique(inter$contr_CLUSTER))){\n",
    "        inter[,t]=NA\n",
    "    } \n",
    "    ### ---------------------------------------------   start\n",
    "    rm(final.out)\n",
    "    for (tier in c(1,2)){\n",
    "        if (!exists(\"final.out\")){\n",
    "            int.t1a=inter[inter$pct.1>tiering_thresh[tier,1] & inter$pct.2 < tiering_thresh[tier,2],]\n",
    "            int.t1a$TIER=c(tier)\n",
    "        } else if (tier %in% c(2)) {\n",
    "            inter1=inter[!(inter$ID %in% final.out$ID),]\n",
    "            int.t1a=inter1[inter1$pct.1>tiering_thresh[tier,1] & inter1$pct.2 < tiering_thresh[tier,2],]\n",
    "            int.t1a$TIER=c(tier)\n",
    "        } else if ( tier %in% c(3)){\n",
    "            inter1=inter[!(inter$ID %in% final.out$ID),]\n",
    "            #int.t1a=inter1[inter1$AUC> as.numeric(AUC_tier3) & inter1$avg_logFC > lgFC_tier3,]\n",
    "            int.t1a=inter1[inter1$avg_logFC > lgFC_tier3,]\n",
    "            int.t1a$TIER=c(tier)\n",
    "        }\n",
    "    ### ------------   prep data per TIER\n",
    "        rm(int.t1)\n",
    "        for (kt in unique(int.t1a$ID)) {\n",
    "            int2=int.t1a[int.t1a$ID %in% kt,]\n",
    "            entr=as.character(int2$contr_CLUSTER)\n",
    "            int2$DUPL=length(entr)\n",
    "            int2$nameCONT = paste(entr,sep='',collapse=\" | \")\n",
    "            for (j in entr) {\n",
    "                int2[,j]=c(1)\n",
    "                }  \n",
    "            if(!exists(\"int.t1\")){\n",
    "                int.t1=int2\n",
    "                }else {\n",
    "                int.t1=rbind(int.t1,int2) \n",
    "            }\n",
    "        }\n",
    "    ### -------------------------------------\n",
    "    ### create panels -- per TIER   \n",
    "        spec=NA\n",
    "        for (r in maxCONTR:1) {  \n",
    "            dat=int.t1[int.t1$DUPL %in% r,]\n",
    "            #print (paste(\"this is control \", r, sep=\" \"))\n",
    "            if (max(int.t1$DUPL) < r) {  \n",
    "                #print (paste(\"skip \",r ,\"!!!\"))\n",
    "                next \n",
    "                } else if (any(dat$DUPL %in% maxCONTR)) {\n",
    "                        #print (c(\"found a lot of data\"))         \n",
    "                        dat12=tiering(dat,markerN)\n",
    "                        spec=c(spec,as.character(dat12$contr_CLUSTER))\n",
    "                        int.t1$panel[int.t1$ID %in% unique(dat12$ID)]=paste0(\"TIER\",tier,\"_panel\")        \n",
    "                    } ### a lot of data else if\n",
    "                    else if (nrow(dat) > 1 & length(spec)<2){\n",
    "                        #print (c(\"found data for the first time\"))   \n",
    "                        dat12=tiering(dat,markerN)\n",
    "                        spec=c(spec,as.character(dat12$contr_CLUSTER))\n",
    "                        int.t1$panel[int.t1$ID %in% unique(dat12$ID)]=paste0(\"TIER\",tier,\"_panel\")   \n",
    "                      }\n",
    "                    else if (nrow(dat) > 1){\n",
    "                       # print (c(\"found data !!!\")) \n",
    "                        freq.t=as.data.frame(table(spec))\n",
    "                        stay.in=freq.t$spec[freq.t$Freq < markerN]\n",
    "                        dat=dat[dat$contr_CLUSTER %in% stay.in, ]\n",
    "                        if (nrow(dat) > 1){\n",
    "                            dat12=tiering(dat,markerN)\n",
    "                            spec=c(spec,as.character(dat12$contr_CLUSTER))\n",
    "                            int.t1$panel[int.t1$ID %in% unique(dat12$ID)]=paste0(\"TIER\",tier,\"_panel\") \n",
    "                        } else { next }\n",
    "                    }\n",
    "        } # for loop\n",
    "###. -------\n",
    "        fin.int=as.data.frame(table(int.t1$contr_CLUSTER[!is.na(int.t1$panel)]))\n",
    "        zeros=unique(inter$contr_CLUSTER)[!(unique(inter$contr_CLUSTER) %in% fin.int$Var1)]\n",
    "        if (length(zeros >0)){\n",
    "            fin.int=rbind(fin.int,data.frame(Var1=zeros,Freq=rep(0,length(zeros))))\n",
    "        }\n",
    "        pan.descr=paste(paste(fin.int$Freq, fin.int$Var1,sep=\"x\"),sep=\"\",collapse=\" \")\n",
    "        int.t1$panel_descr[int.t1$panel %in% paste0(\"TIER\",tier,\"_panel\")] = c(pan.descr)  \n",
    "## \n",
    "        print(noquote(paste0(\" TIER \",tier, \" Markerpanel:\")))\n",
    "        print(noquote(paste(unique(int.t1$ID[int.t1$panel %in% paste0(\"TIER\",tier,\"_panel\") ]))))\n",
    "        if(!exists(\"final.out\")){\n",
    "            final.out=int.t1\n",
    "        } else {\n",
    "            final.out=rbind(final.out,int.t1)\n",
    "        }\n",
    "    } # close tiering loop\n",
    "    assign(paste0(\"all_tiers_\", k), final.out)  ### keep this for phenotype loop\n",
    "    write.table(final.out,file=paste0(out,\"MARKERS_specific_\",k,\"_allTIERs.txt\"),sep=\"\\t\",col.names=T,row.names=F,quote=F)\n",
    "    print(noquote(paste0('written to file: ', out,\"MARKERS_specific_\",k,\"_allTIERs.txt\")))\n",
    "####.  ----------------------------------   run enrichment\n",
    "    dat1=final.out[final.out$TIER %in% c(\"1\",\"2\"),]\n",
    "    g.list=dat1$ID[!duplicated(dat1$ID)]\n",
    "    invisible(capture.output(enr.result <- enrichr(as.character(g.list),enrich.lists)))\n",
    "#####.  ---------------------------------    screen overlaps and create list\n",
    "    for (over in enrich.lists) {\n",
    "        if(over %in% screen.overlaps){\n",
    "            print(noquote(paste(\"           ++++++++ cluster\",k, \"overlaps to\",over,\"++++++++     \")))\n",
    "            print(noquote((enr.result)[[over]][1:5,c(1,2,4)]))\n",
    "        }\n",
    "        inter=head((enr.result)[[over]],n=20)\n",
    "        if (!exists(\"over.fin\")){\n",
    "            over.fin=inter\n",
    "        }else {\n",
    "            over.fin=as.data.frame(rbind(over.fin, inter))\n",
    "            }\n",
    "        }\n",
    "    write.table(over.fin,file=paste0(out,\"OVERLAPS_specific_\",k,\"_TIER_1_2.txt\"),sep=\"\\t\",col.names=T,row.names=F,quote=F)\n",
    "    print(noquote(paste0('written to file: ', out,\"OVERLAPS_specific_\",k,\"_TIER_1_2.txt\")))\n",
    "    rm(over.fin)\n",
    "    \n",
    "}          "
   ]
  },
  {
   "cell_type": "code",
   "execution_count": null,
   "id": "9ec490c1-317c-4962-9513-37abda157ba1",
   "metadata": {},
   "outputs": [],
   "source": [
    "i=c(\"ADGRL4\")\n",
    "p=FeaturePlot(sce.seurat1, features = as.character(i),min.cutoff=0.1,max.cutoff=5)\n",
    "    print(p)"
   ]
  },
  {
   "cell_type": "code",
   "execution_count": null,
   "id": "52f71eff-c29f-4eb8-8988-1aa43a8079aa",
   "metadata": {},
   "outputs": [],
   "source": []
  },
  {
   "cell_type": "code",
   "execution_count": null,
   "id": "07b8becd-829d-4f70-9983-162e29e6f832",
   "metadata": {},
   "outputs": [],
   "source": []
  }
 ],
 "metadata": {
  "kernelspec": {
   "display_name": "R",
   "language": "R",
   "name": "ir"
  },
  "language_info": {
   "codemirror_mode": "r",
   "file_extension": ".r",
   "mimetype": "text/x-r-source",
   "name": "R",
   "pygments_lexer": "r",
   "version": "4.3.0"
  }
 },
 "nbformat": 4,
 "nbformat_minor": 5
}
