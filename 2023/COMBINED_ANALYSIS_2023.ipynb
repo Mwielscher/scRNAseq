{
 "cells": [
  {
   "cell_type": "markdown",
   "id": "da9aa2db-24ab-4338-ab94-9038acfedaf2",
   "metadata": {},
   "source": [
    "## this notebook integrates multiple scRNAseq runs to one Seurat object. \n",
    "> normalization will be done with [sct transform](https://genomebiology.biomedcentral.com/articles/10.1186/s13059-019-1874-1)  \n",
    "> batch removal will be done with [harmony](https://www.nature.com/articles/s41592-019-0619-0)  \n",
    "> regression will be based on wilcoxon rank sum test (this is not ideal - but due to software issues the only feasible solution)  \n",
    "> enrichment analysis will be performed with [enrichR](https://maayanlab.cloud/Enrichr/)  "
   ]
  },
  {
   "cell_type": "code",
   "execution_count": null,
   "id": "11c0b952-1b52-4644-a804-9c390bb800ed",
   "metadata": {},
   "outputs": [],
   "source": [
    "rm(list=ls())\n",
    "library(Seurat)\n",
    "sessionInfo()\n",
    "getwd()"
   ]
  },
  {
   "cell_type": "code",
   "execution_count": null,
   "id": "d8089117-964c-404e-aee0-07178f41f6ee",
   "metadata": {},
   "outputs": [],
   "source": [
    "dir=c(\"/gpfs/data/fs71707/dsam/data/DARC/DARC/\")\n",
    "out=c(\"/home/fs71707/dsam/data/DARC/DARC/result/\")\n",
    "inter.dat=c(\"/home/fs71707/dsam/data/DARC/DARC/proc_data/\")\n",
    "w.dir=c(\"/home/fs71707/dsam/data/DARC/DARC/notebooks/\")\n",
    "sample_ID=c(\"DARC_Nov22\")"
   ]
  },
  {
   "cell_type": "markdown",
   "id": "01ab1b35-2a1b-44a6-a8f6-ff9258bdaab0",
   "metadata": {
    "jp-MarkdownHeadingCollapsed": true,
    "tags": []
   },
   "source": [
    "### load individual datasets"
   ]
  },
  {
   "cell_type": "code",
   "execution_count": null,
   "id": "75a30349-7ded-4d48-992f-b25f3a0f9bb9",
   "metadata": {},
   "outputs": [],
   "source": [
    "load(paste0(inter.dat,\"Seurat_final_AD2pep.RData\"))\n",
    "AD2pep=sce.seurat1\n",
    "dim(AD2pep)\n",
    "AD2pep@meta.data$name=rep(\"AD2pep\", nrow(AD2pep@meta.data))\n",
    "AD2pep@meta.data$batch=rep(1, nrow(AD2pep@meta.data))\n",
    "head(AD2pep@meta.data)"
   ]
  },
  {
   "cell_type": "code",
   "execution_count": null,
   "id": "a6891a19-30de-431d-8f6c-99c0d2584c3b",
   "metadata": {},
   "outputs": [],
   "source": [
    "load(paste0(inter.dat,\"Seurat_final_AD2rec.RData\"))\n",
    "AD2rec=sce.seurat1\n",
    "dim(AD2rec)\n",
    "AD2rec@meta.data$name=rep(\"AD2rec\", nrow(AD2rec@meta.data))\n",
    "AD2rec@meta.data$batch=rep(2, nrow(AD2rec@meta.data))\n",
    "head(AD2rec@meta.data)"
   ]
  },
  {
   "cell_type": "code",
   "execution_count": null,
   "id": "891ab0cb-0d03-4bf0-a2d1-298105c69d71",
   "metadata": {},
   "outputs": [],
   "source": [
    "load(paste0(inter.dat,\"Seurat_final_AD3pep.RData\"))\n",
    "AD3pep=sce.seurat1\n",
    "dim(AD3pep)\n",
    "AD3pep@meta.data$name=rep(\"AD3pep\", nrow(AD3pep@meta.data))\n",
    "AD3pep@meta.data$batch=rep(3, nrow(AD3pep@meta.data))\n",
    "head(AD3pep@meta.data)"
   ]
  },
  {
   "cell_type": "code",
   "execution_count": null,
   "id": "9348b73b-0e8e-423b-98df-6ac56156e38e",
   "metadata": {},
   "outputs": [],
   "source": [
    "load(paste0(inter.dat,\"Seurat_final_AD3rec.RData\"))\n",
    "AD3rec=sce.seurat1\n",
    "dim(AD3rec)\n",
    "AD3rec@meta.data$name=rep(\"AD3rec\", nrow(AD3rec@meta.data))\n",
    "AD3rec@meta.data$batch=rep(4, nrow(AD3rec@meta.data))\n",
    "head(AD3rec@meta.data)"
   ]
  },
  {
   "cell_type": "code",
   "execution_count": null,
   "id": "0b0b11dc-9420-418d-a43a-27c1f24e2084",
   "metadata": {},
   "outputs": [],
   "source": [
    "load(paste0(inter.dat,\"Seurat_final_AD4pep.RData\"))\n",
    "AD4pep=sce.seurat1\n",
    "dim(AD4pep)\n",
    "AD4pep@meta.data$name=rep(\"AD4pep\", nrow(AD4pep@meta.data))\n",
    "AD4pep@meta.data$batch=rep(5, nrow(AD4pep@meta.data))\n",
    "head(AD4pep@meta.data)"
   ]
  },
  {
   "cell_type": "code",
   "execution_count": null,
   "id": "e962acf8-fe27-49ce-b114-28c96024acd4",
   "metadata": {},
   "outputs": [],
   "source": [
    "load(paste0(inter.dat,\"Seurat_final_AD4rec.RData\"))\n",
    "AD4rec=sce.seurat1\n",
    "dim(AD4rec)\n",
    "AD4rec@meta.data$name=rep(\"AD4rec\", nrow(AD4rec@meta.data))\n",
    "AD4rec@meta.data$batch=rep(6, nrow(AD4rec@meta.data))\n",
    "head(AD4rec@meta.data)"
   ]
  },
  {
   "cell_type": "code",
   "execution_count": null,
   "id": "d4c43d94-862a-4749-8d6e-9ea74d25f039",
   "metadata": {},
   "outputs": [],
   "source": [
    "load(paste0(inter.dat,\"Seurat_final_H1pep.RData\"))\n",
    "H1pep=sce.seurat1\n",
    "dim(H1pep)\n",
    "H1pep@meta.data$name=rep(\"H1pep\", nrow(H1pep@meta.data))\n",
    "H1pep@meta.data$batch=rep(7, nrow(H1pep@meta.data))\n",
    "head(H1pep@meta.data)"
   ]
  },
  {
   "cell_type": "code",
   "execution_count": null,
   "id": "e12e964e-3aea-4b10-b255-f5c2a86ab2ad",
   "metadata": {},
   "outputs": [],
   "source": [
    "load(paste0(inter.dat,\"Seurat_final_H1rec.RData\"))\n",
    "H1rec=sce.seurat1\n",
    "dim(H1rec)\n",
    "H1rec@meta.data$name=rep(\"H1rec\", nrow(H1rec@meta.data))\n",
    "H1rec@meta.data$batch=rep(8, nrow(H1rec@meta.data))\n",
    "head(H1rec@meta.data)"
   ]
  },
  {
   "cell_type": "code",
   "execution_count": null,
   "id": "8ae01c1c-2834-469a-8067-311b14c2de31",
   "metadata": {},
   "outputs": [],
   "source": [
    "load(paste0(inter.dat,\"Seurat_final_H3pep.RData\"))\n",
    "H3pep=sce.seurat1\n",
    "dim(H3pep)\n",
    "H3pep@meta.data$name=rep(\"H3pep\", nrow(H3pep@meta.data))\n",
    "H3pep@meta.data$batch=rep(9, nrow(H3pep@meta.data))\n",
    "head(H3pep@meta.data)"
   ]
  },
  {
   "cell_type": "code",
   "execution_count": null,
   "id": "eaa13af1-065c-40e6-9e9a-57e7b031a269",
   "metadata": {},
   "outputs": [],
   "source": [
    "load(paste0(inter.dat,\"Seurat_final_H3rec.RData\"))\n",
    "H3rec=sce.seurat1\n",
    "dim(H3rec)\n",
    "H3rec@meta.data$name=rep(\"H3rec\", nrow(H3rec@meta.data))\n",
    "H3rec@meta.data$batch=rep(10, nrow(H3rec@meta.data))\n",
    "head(H3rec@meta.data)"
   ]
  },
  {
   "cell_type": "code",
   "execution_count": null,
   "id": "4e08689d-4723-4d77-a76b-c71597856fc5",
   "metadata": {},
   "outputs": [],
   "source": [
    "load(paste0(inter.dat,\"Seurat_final_H4pep.RData\"))\n",
    "H4pep=sce.seurat1\n",
    "dim(H4pep)\n",
    "H4pep@meta.data$name=rep(\"H4pep\", nrow(H4pep@meta.data))\n",
    "H4pep@meta.data$batch=rep(11, nrow(H4pep@meta.data))\n",
    "head(H4pep@meta.data)"
   ]
  },
  {
   "cell_type": "code",
   "execution_count": null,
   "id": "5883c2f0-9589-447e-84e9-c98096fed32d",
   "metadata": {},
   "outputs": [],
   "source": [
    "load(paste0(inter.dat,\"Seurat_final_H4rec.RData\"))\n",
    "H4rec=sce.seurat1\n",
    "dim(H4rec)\n",
    "H4rec@meta.data$name=rep(\"H4rec\", nrow(H4rec@meta.data))\n",
    "H4rec@meta.data$batch=rep(12, nrow(H4rec@meta.data))\n",
    "head(H4rec@meta.data)"
   ]
  },
  {
   "cell_type": "markdown",
   "id": "43c2376d-cbdf-421c-bb3d-38b40876d551",
   "metadata": {
    "tags": []
   },
   "source": [
    "### merge datasets"
   ]
  },
  {
   "cell_type": "code",
   "execution_count": null,
   "id": "db7b49aa-be60-47de-abaf-686fd4e2cc52",
   "metadata": {},
   "outputs": [],
   "source": [
    "darc = merge(AD2pep, y = c(AD2rec, AD3pep,AD3rec,AD4pep,AD4rec,H1pep,H1rec,H3pep,H3rec,H4pep,H4rec), project = \"DARC_nov\")"
   ]
  },
  {
   "cell_type": "code",
   "execution_count": null,
   "id": "a8f00e51-56f0-4f7b-bfd1-d8414d7e505f",
   "metadata": {},
   "outputs": [],
   "source": [
    "dim(darc)\n",
    "save(darc,file=paste0(inter.dat,\"DARC_merge_NOV_noNorm.RData\"))\n",
    "## memory usage 31GB"
   ]
  },
  {
   "cell_type": "code",
   "execution_count": null,
   "id": "ad00e943-b4e4-4c1f-a6fc-b82337e7fa29",
   "metadata": {},
   "outputs": [],
   "source": [
    "## clear working directory\n",
    "rm(list=ls())\n",
    "dir=c(\"/home/fs71707/dsam/data/DARC/DARC/\")\n",
    "out=c(\"/home/fs71707/dsam/data/DARC/DARC/result/\")\n",
    "inter.dat=c(\"/home/fs71707/dsam/data/DARC/DARC/proc_data/\")\n",
    "w.dir=c(\"/home/fs71707/dsam/data/DARC/DARC/notebooks/\")\n",
    "sample_ID=c(\"DARC_Nov22\")\n",
    "library(Seurat)\n",
    "load(paste0(inter.dat,\"DARC_merge_NOV_noNorm.RData\"))"
   ]
  },
  {
   "cell_type": "markdown",
   "id": "3f291472-48b1-4931-a432-a845ff35fa7e",
   "metadata": {},
   "source": [
    "> #### UMI per feature"
   ]
  },
  {
   "cell_type": "code",
   "execution_count": null,
   "id": "32f5483e-5ef3-4754-9492-e5dbbbc18a53",
   "metadata": {},
   "outputs": [],
   "source": [
    "library(\"matrixStats\",lib.loc = \"/home/fs71707/dsam/R_packages/\")\n",
    "library(\"MatrixGenerics\",lib.loc = \"/home/fs71707/dsam/R_packages/\")\n",
    "library(\"dplyr\",lib.loc = \"/home/fs71707/dsam/R_packages2\", character.only = TRUE)\n",
    "library(\"ggplot2\",lib.loc = \"/home/fs71707/dsam/R_packages\", character.only = TRUE)\n",
    "library(\"ggtree\",lib.loc = \"/home/fs71707/dsam/R_packages2\", character.only = TRUE)\n",
    "library(\"cowplot\",lib.loc = \"/home/fs71707/dsam/R_packages\", character.only = TRUE)\n",
    "library(\"pROC\",lib.loc = \"/home/fs71707/dsam/R_packages2\", character.only = TRUE)\n",
    "library(\"Matrix\",lib.loc = \"/home/fs71707/dsam/R_packages\", character.only = TRUE)\n",
    "library(\"enrichR\",lib.loc = \"/home/fs71707/dsam/R_packages\", character.only = TRUE)\n",
    "library(\"harmony\",lib.loc = \"/home/fs71707/dsam/R_packages/\")"
   ]
  },
  {
   "cell_type": "code",
   "execution_count": null,
   "id": "ccf32431-3b09-4771-9c44-d1168dba7c2b",
   "metadata": {},
   "outputs": [],
   "source": [
    "ave_per_feature=Matrix::rowMeans(darc@assays$RNA@counts)\n",
    "umi_per_feature=Matrix::rowSums(darc@assays$RNA@counts)\n",
    "total=dim(darc)[2]\n",
    "one=format(mean(umi_per_feature[log10(ave_per_feature)<log10(0.2)]),digits=1)\n",
    "two=format(mean(umi_per_feature[log10(ave_per_feature)<log10(0.05)]),digits=1)\n",
    "drei=format(mean(umi_per_feature[log10(ave_per_feature)<log10(0.01)]),digits=1)\n",
    "four=format(mean(umi_per_feature[log10(ave_per_feature)<log10(0.005)]),digits=1)\n",
    "\n",
    "hist(log10(ave_per_feature),breaks=50,main=c(\"Average expression per feature\"),xlab=c(\"log10(mean expression per feature)\"),\n",
    "     ylab=c(\"number of features\"))\n",
    "abline(v=log10(0.2),col=\"blue\",lty=2,lwd=2)\n",
    "abline(v=log10(0.05),col=\"green\",lty=2,lwd=2)\n",
    "abline(v=log10(0.01),col=\"red\",lty=2,lwd=2)\n",
    "abline(v=log10(0.005),col=\"black\",lty=2,lwd=2)\n",
    "\n",
    "legend(\"topright\", legend=c(paste(\"equals\",four,\"reads distibuted over\",total,\"cells\"), \n",
    "                            paste(\"equals\",drei,\"reads distibuted over\",total,\"cells\"),\n",
    "                            paste(\"equals\",two,\"reads distibuted over\",total,\"cells\"),\n",
    "                            paste(\"equals\",one,\"reads distibuted over\",total,\"cells\")),\n",
    "       col=c(\"black\", \"red\",\"green\",\"blue\"), lty=c(2),lwd=1.5, cex=0.8, title=\"expression in numbers\",title.adj=0)\n",
    "\n",
    "jpeg(paste0(out,sample_ID,\"_UMI_per_feature.jpeg\"))\n",
    "hist(log10(ave_per_feature),breaks=50,main=c(\"Average expression per feature\"),xlab=c(\"log10(mean expression per feature)\"),\n",
    "     ylab=c(\"number of features\"))\n",
    "abline(v=log10(0.2),col=\"blue\",lty=2,lwd=2)\n",
    "abline(v=log10(0.05),col=\"green\",lty=2,lwd=2)\n",
    "abline(v=log10(0.01),col=\"red\",lty=2,lwd=2)\n",
    "abline(v=log10(0.005),col=\"black\",lty=2,lwd=2)\n",
    "\n",
    "legend(\"topright\", legend=c(paste(\"equals\",four,\"reads distibuted over\",total,\"cells\"), \n",
    "                            paste(\"equals\",drei,\"reads distibuted over\",total,\"cells\"),\n",
    "                            paste(\"equals\",two,\"reads distibuted over\",total,\"cells\"),\n",
    "                            paste(\"equals\",one,\"reads distibuted over\",total,\"cells\")),\n",
    "       col=c(\"black\", \"red\",\"green\",\"blue\"), lty=c(2),lwd=1.5, cex=0.8, title=\"expression in numbers\",title.adj=0)\n",
    "\n",
    "dev.off()"
   ]
  },
  {
   "cell_type": "code",
   "execution_count": null,
   "id": "3c9dda21-1bbe-4279-b87e-afca4826de40",
   "metadata": {},
   "outputs": [],
   "source": [
    "### aparently Seurat does some automatic excluding of low expressed genes\n",
    "thresh1=c(0.001)\n",
    "paste(\"applying a threshold of\",thresh1, \"will remove\",table(log10(ave_per_feature)>log10(thresh1))[1], \"genes\",sep=\" \")\n",
    "paste(\" and leave\",table(log10(ave_per_feature)>log10(thresh1))[2],\"in our analysis\",sep=\" \")\n",
    "exclude = rownames(darc@assays$RNA@counts)[log10(ave_per_feature)<log10(thresh1)]\n",
    "darc2=darc[!rownames(darc) %in% exclude,] \n",
    "dim(darc)\n",
    "dim(darc2)"
   ]
  },
  {
   "cell_type": "code",
   "execution_count": null,
   "id": "064ad711-8fc4-4f2b-9acf-8fa5b950bbaa",
   "metadata": {},
   "outputs": [],
   "source": [
    "ave_per_feature=Matrix::rowMeans(darc2@assays$RNA@counts)\n",
    "umi_per_feature=Matrix::rowSums(darc2@assays$RNA@counts)\n",
    "total=dim(darc)[2]\n",
    "one=format(mean(umi_per_feature[log10(ave_per_feature)<log10(0.2)]),digits=1)\n",
    "two=format(mean(umi_per_feature[log10(ave_per_feature)<log10(0.05)]),digits=1)\n",
    "drei=format(mean(umi_per_feature[log10(ave_per_feature)<log10(0.01)]),digits=1)\n",
    "four=format(mean(umi_per_feature[log10(ave_per_feature)<log10(0.005)]),digits=1)\n",
    "\n",
    "hist(log10(ave_per_feature),breaks=50,main=c(\"Average expression per feature\"),xlab=c(\"log10(mean expression per feature)\"),\n",
    "     ylab=c(\"number of features\"))\n",
    "abline(v=log10(0.2),col=\"blue\",lty=2,lwd=2)\n",
    "abline(v=log10(0.05),col=\"green\",lty=2,lwd=2)\n",
    "abline(v=log10(0.01),col=\"red\",lty=2,lwd=2)\n",
    "abline(v=log10(0.005),col=\"black\",lty=2,lwd=2)\n",
    "\n",
    "legend(\"topright\", legend=c(paste(\"equals\",four,\"reads distibuted over\",total,\"cells\"), \n",
    "                            paste(\"equals\",drei,\"reads distibuted over\",total,\"cells\"),\n",
    "                            paste(\"equals\",two,\"reads distibuted over\",total,\"cells\"),\n",
    "                            paste(\"equals\",one,\"reads distibuted over\",total,\"cells\")),\n",
    "       col=c(\"black\", \"red\",\"green\",\"blue\"), lty=c(2),lwd=1.5, cex=0.8, title=\"expression in numbers\",title.adj=0)\n",
    "\n",
    "jpeg(paste0(out,sample_ID,\"_UMI_per_feature_CLEANED.jpeg\"))\n",
    "hist(log10(ave_per_feature),breaks=50,main=c(\"Average expression per feature\"),xlab=c(\"log10(mean expression per feature)\"),\n",
    "     ylab=c(\"number of features\"))\n",
    "abline(v=log10(0.2),col=\"blue\",lty=2,lwd=2)\n",
    "abline(v=log10(0.05),col=\"green\",lty=2,lwd=2)\n",
    "abline(v=log10(0.01),col=\"red\",lty=2,lwd=2)\n",
    "abline(v=log10(0.005),col=\"black\",lty=2,lwd=2)\n",
    "\n",
    "legend(\"topright\", legend=c(paste(\"equals\",four,\"reads distibuted over\",total,\"cells\"), \n",
    "                            paste(\"equals\",drei,\"reads distibuted over\",total,\"cells\"),\n",
    "                            paste(\"equals\",two,\"reads distibuted over\",total,\"cells\"),\n",
    "                            paste(\"equals\",one,\"reads distibuted over\",total,\"cells\")),\n",
    "       col=c(\"black\", \"red\",\"green\",\"blue\"), lty=c(2),lwd=1.5, cex=0.8, title=\"expression in numbers\",title.adj=0)\n",
    "\n",
    "dev.off()"
   ]
  },
  {
   "cell_type": "markdown",
   "id": "8bc3651d-2da0-4c93-b615-852476b087c6",
   "metadata": {
    "tags": []
   },
   "source": [
    "## SCT normalization (incl. batch as covariate)  "
   ]
  },
  {
   "cell_type": "code",
   "execution_count": null,
   "id": "7ec0cfbc-8371-49fe-b4f7-90935d81bedc",
   "metadata": {},
   "outputs": [],
   "source": [
    "dat1=SCTransform(darc2, variable.features.n = NULL,vars.to.regress=c(\"nCount_RNA\",\"percent.mt\",\"CC.Difference\",\"batch\"),\n",
    "            conserve.memory = F, return.only.var.genes = F) %>% RunPCA(verbose = TRUE)\n",
    "## max memory usage 73 GB"
   ]
  },
  {
   "cell_type": "code",
   "execution_count": null,
   "id": "fd4898c0-6366-4dc7-b9bd-92b6a735dc95",
   "metadata": {},
   "outputs": [],
   "source": [
    "save(dat1,file=paste0(inter.dat,\"DARC_merge_nov22_SCTnorm.RData\"))"
   ]
  },
  {
   "cell_type": "markdown",
   "id": "fff62107-4e35-4eea-92cf-038086de43c4",
   "metadata": {},
   "source": [
    "## batch removal with Harmony software"
   ]
  },
  {
   "cell_type": "code",
   "execution_count": null,
   "id": "db0a9c5c-e538-46b2-b5ed-549054b894b1",
   "metadata": {},
   "outputs": [],
   "source": [
    "dat1@meta.data$batch=as.factor(dat1@meta.data$batch)\n",
    "all.vars=as.character(rownames(dat1))\n",
    "dat1_harmony = RunHarmony(dat1, assay.use=\"SCT\",group.by.vars = \"batch\",vars_use=all.vars)"
   ]
  },
  {
   "cell_type": "code",
   "execution_count": null,
   "id": "e629e58a-4d86-4498-9a6b-209eda38e620",
   "metadata": {},
   "outputs": [],
   "source": [
    "save(dat1_harmony,file=paste0(inter.dat,\"DARC_merge_NOV_SCTnorm_batchREMOVED.RData\"))"
   ]
  },
  {
   "cell_type": "code",
   "execution_count": null,
   "id": "1a693e90-9d79-4a3d-b11e-5f19bcdf4956",
   "metadata": {},
   "outputs": [],
   "source": [
    "load(paste0(inter.dat,\"DARC_merge_NOV_SCTnorm_batchREMOVED.RData\"))"
   ]
  },
  {
   "cell_type": "code",
   "execution_count": null,
   "id": "29845bfb-f29c-4705-b4cb-564111ee2365",
   "metadata": {},
   "outputs": [],
   "source": [
    "Seurat::DimHeatmap(dat1_harmony, reduction = \"harmony\",dims = 1, cells = 500, balanced = TRUE)  ### plot the top 500 cells (highest scores)\n",
    "Seurat::DimHeatmap(dat1_harmony, dims = 2,reduction = \"harmony\", cells = 500, balanced = TRUE)  ### plot the top 500 cells (highest scores)\n",
    "Seurat::DimHeatmap(dat1_harmony, dims = 3,reduction = \"harmony\", cells = 500, balanced = TRUE)\n",
    "Seurat::DimHeatmap(dat1_harmony, dims = 4, reduction = \"harmony\",cells = 500, balanced = TRUE)\n",
    "Seurat::DimHeatmap(dat1_harmony, dims = 5,reduction = \"harmony\", cells = 500, balanced = TRUE)\n",
    "Seurat::DimHeatmap(dat1_harmony, dims = 6,reduction = \"harmony\", cells = 500, balanced = TRUE)\n",
    "Seurat::ElbowPlot(dat1_harmony,reduction=\"harmony\")"
   ]
  },
  {
   "cell_type": "code",
   "execution_count": null,
   "id": "7808385f-9115-4f92-8da8-90717434d176",
   "metadata": {},
   "outputs": [],
   "source": [
    "sig_PCs=c(1:15)\n",
    "dat1_harmony = RunUMAP(dat1_harmony,reduction = \"harmony\", dims = sig_PCs)\n",
    "dat1_harmony = RunTSNE(dat1_harmony,reduction = \"harmony\", dims = sig_PCs)\n",
    "sce.seurat1=Seurat::FindNeighbors(dat1_harmony,reduction = \"harmony\",k.param = 20,dims=sig_PCs) "
   ]
  },
  {
   "cell_type": "code",
   "execution_count": null,
   "id": "ddb569f5-6033-4012-b294-1097ce7bb925",
   "metadata": {},
   "outputs": [],
   "source": [
    "jpeg(paste(out,\"combined_initial_batch_TEST_umap.jpeg\",sep=\"\"))\n",
    "UMAPPlot(sce.seurat1,group.by=\"name\")\n",
    "dev.off()\n",
    "UMAPPlot(sce.seurat1,group.by=\"name\")"
   ]
  },
  {
   "cell_type": "code",
   "execution_count": null,
   "id": "9b58ef42-181d-44e9-8f9e-12aa24c4d1e4",
   "metadata": {},
   "outputs": [],
   "source": [
    "jpeg(paste(out,\"combined_initial_batch_TEST_tsne.jpeg\",sep=\"\"))\n",
    "TSNEPlot(sce.seurat1,group.by=\"name\")\n",
    "dev.off()\n",
    "TSNEPlot(sce.seurat1,group.by=\"name\")"
   ]
  },
  {
   "cell_type": "code",
   "execution_count": null,
   "id": "1d1581c9-1bc5-4d5a-99ca-a1979920a87e",
   "metadata": {},
   "outputs": [],
   "source": [
    "Idents(sce.seurat1) = sce.seurat1@meta.data$name"
   ]
  },
  {
   "cell_type": "code",
   "execution_count": null,
   "id": "d87d136a-acd2-4994-b37f-8ae0e3306e5c",
   "metadata": {},
   "outputs": [],
   "source": [
    "DimPlot(sce.seurat1, reduction = \"tsne\", split.by = \"name\",ncol = 3,label = F)\n",
    "jpeg(paste(out,\"combined_proper_batch_TEST_tsne.jpeg\",sep=\"\"))\n",
    "DimPlot(sce.seurat1, reduction = \"tsne\", split.by = \"name\",ncol = 3,label = F)\n",
    "dev.off()\n",
    "pdf(paste(out,\"combined_proper_batch_TEST_tsne.pdf\",sep=\"\"))\n",
    "DimPlot(sce.seurat1, reduction = \"tsne\", split.by = \"name\",ncol = 3,label = F)\n",
    "dev.off()"
   ]
  },
  {
   "cell_type": "code",
   "execution_count": null,
   "id": "82a3c9c6-28bc-4583-b90b-85be9c9f8c15",
   "metadata": {},
   "outputs": [],
   "source": [
    "DimPlot(sce.seurat1, reduction = \"umap\", split.by = \"name\",ncol = 3,label = F)\n",
    "jpeg(paste(out,\"combined_proper_batch_TEST_umap.jpeg\",sep=\"\"))\n",
    "DimPlot(sce.seurat1, reduction = \"umap\", split.by = \"name\",ncol = 3,label = F)\n",
    "dev.off()\n",
    "pdf(paste(out,\"combined_proper_batch_TEST_umap.pdf\",sep=\"\"))\n",
    "DimPlot(sce.seurat1, reduction = \"umap\", split.by = \"name\",ncol = 3,label = F)\n",
    "dev.off()"
   ]
  },
  {
   "cell_type": "code",
   "execution_count": null,
   "id": "e0dc1ec9-3d57-4b1f-ae32-121b2d5f5848",
   "metadata": {},
   "outputs": [],
   "source": [
    "head(sce.seurat1@meta.data)\n"
   ]
  },
  {
   "cell_type": "code",
   "execution_count": null,
   "id": "573bcbd9-423a-4fe9-ad7e-10ad4c96848f",
   "metadata": {},
   "outputs": [],
   "source": [
    "Idents(sce.seurat1)=as.factor(sce.seurat1@meta.data$Phase)\n",
    "pdf(paste0(out,\"combined_CELL_CYCLE_TEST_umap.pdf\"))\n",
    "UMAPPlot(sce.seurat1)\n",
    "dev.off()\n",
    "UMAPPlot(sce.seurat1)\n",
    "TSNEPlot(sce.seurat1)\n",
    "pdf(paste0(out,\"combined_CELL_CYCLE_TEST_umap.pdf\"))\n",
    "TSNEPlot(sce.seurat1)\n",
    "dev.off()"
   ]
  },
  {
   "cell_type": "code",
   "execution_count": null,
   "id": "f6773f29-8b43-4474-82cb-5da3cd16f8af",
   "metadata": {},
   "outputs": [],
   "source": [
    "i=c(\"KIT\")\n",
    "p=FeaturePlot(sce.seurat1, features = as.character(i),min.cutoff=0.1,max.cutoff=5)\n",
    "    print(p)"
   ]
  },
  {
   "cell_type": "code",
   "execution_count": null,
   "id": "b6fb42a2-27f4-4f6f-a0c7-1c6d1319069b",
   "metadata": {},
   "outputs": [],
   "source": [
    "i=c(\"HLA-DRA\") # CD3E COLA1A PECAM1 KRT1 KIT CD4 CD86 HLA-DRA PTPRC IL13 CXCR4 CD69 CD14 CD8A\n",
    "p=FeaturePlot(sce.seurat1, reduction = \"tsne\",features = as.character(i),min.cutoff=0.1,max.cutoff=5)\n",
    "    print(p)"
   ]
  },
  {
   "cell_type": "code",
   "execution_count": null,
   "id": "c7ae44a8-ed68-4650-9ef8-d4ee8986edab",
   "metadata": {},
   "outputs": [],
   "source": [
    "clust_test=function(sce) {\n",
    "  cont=as.data.frame(matrix(NA,nrow=length(unique(Idents(sce))), ncol=4))\n",
    "  colnames(cont)=c(\"cluster\",\"cells\",\"mean_total_UMI\",\"mean_features\")\n",
    "  i=1\n",
    "  for (k in unique(Idents(sce))) {\n",
    "    print(c(k))\n",
    "    cont[i,1]=c(k)\n",
    "    dat23=sce@assays$RNA@counts[,Idents(sce)%in%c(k)]\n",
    "    cont[i,2]=table(Idents(sce)%in%c(k))[2]\n",
    "    cont[i,3]=mean(apply(dat23,2,function(x)sum(x)))\n",
    "    cont[i,4]=mean(apply(dat23,2,function(x)table(x %in% c(0))[1]))\n",
    "    i=i+1\n",
    "  }\n",
    "  cont=cont[order(as.numeric(as.character(cont$cluster))),]\n",
    "  return(cont)\n",
    "}"
   ]
  },
  {
   "cell_type": "code",
   "execution_count": null,
   "id": "f5790e1e-ad8f-4b54-a333-328d4db4ad6a",
   "metadata": {},
   "outputs": [],
   "source": [
    "sig_PCs=c(1:15)\n",
    "clust.res=0.8\n",
    "sce.seurat1=Seurat::FindClusters(sce.seurat1,resolution=clust.res)  \n",
    "sce.seurat1= Seurat::BuildClusterTree(sce.seurat1,dims=sig_PCs)\n",
    "tree1=sce.seurat1@tools$`Seurat::BuildClusterTree`\n",
    "pl=Seurat::DimPlot(sce.seurat1, reduction = \"tsne\")\n",
    "pl= pl+ ggtitle(paste(\"TSNE and phylo-tree visualization of cell clusters \\n at resolution\",clust.res,sep=\" \")) +\n",
    "  theme (plot.title = element_text(color=\"black\", size=14, face=\"bold\",hjust = 0.5))\n",
    "pl.matrix=ggplot_build(pl)$data[1][[1]]\n",
    "uni_pl_mat=pl.matrix[!duplicated(pl.matrix$group),]\n",
    "tr=ggtree(tree1,layout=\"circular\") + geom_tiplab(aes(angle=angle), lwd=5,offset=.5,fontface=\"bold\")  \n",
    "plot_grid(pl, tr, align = \"v\", nrow = 2, rel_heights = c(2/3, 1/3),axis=\"l\")    \n",
    "pdf(paste0(out,\"combined_initial_CLUSTERING_res08.pdf\"))\n",
    " plot_grid(pl, tr, align = \"v\", nrow = 2, rel_heights = c(2/3, 1/3),axis=\"l\")\n",
    "dev.off()\n",
    "res1=clust_test(sce.seurat1)\n",
    "res1\n",
    "write.csv(res1,file=paste0(out,\"combined_initial_CLUSTERING_res08.csv\"))"
   ]
  },
  {
   "cell_type": "markdown",
   "id": "95182665-376a-4520-8eba-ed91e2d0883f",
   "metadata": {
    "tags": []
   },
   "source": [
    "## we will use clustering at resolution 0.3 for association testing\n",
    "## NEW: we will use resolution 0.8 (dsam, 29.11.2022)"
   ]
  },
  {
   "cell_type": "code",
   "execution_count": null,
   "id": "4ddcdc7d-5d3b-4300-94b4-b316de676193",
   "metadata": {},
   "outputs": [],
   "source": [
    "sce.seurat1@meta.data$seurat_clusters = sce.seurat1@meta.data$SCT_snn_res.0.8\n",
    "Idents(sce.seurat1) = sce.seurat1@meta.data$SCT_snn_res.0.8\n",
    "head(sce.seurat1@meta.data)"
   ]
  },
  {
   "cell_type": "markdown",
   "id": "ce97d4dd-8f2f-4e26-863e-c995184e6bef",
   "metadata": {},
   "source": [
    "## save analysis ready object"
   ]
  },
  {
   "cell_type": "code",
   "execution_count": null,
   "id": "f5ff3330-7946-4e74-b8b0-7b72179d222f",
   "metadata": {},
   "outputs": [],
   "source": [
    "## create groups for differential expression analyis\n",
    "sce.seurat1@meta.data$outcome = rep(\"H\", nrow(sce.seurat1@meta.data))\n",
    "sce.seurat1@meta.data$outcome[sce.seurat1@meta.data$name %in% c(\"AD2rec\",\"AD2pep\",\"AD3rec\",\"AD3pep\",\"AD4rec\",\"AD4pep\")]=c(\"AD\")\n",
    "## fine grained\n",
    "sce.seurat1@meta.data$outcome2 = rep(\"H_rec\", nrow(sce.seurat1@meta.data))\n",
    "sce.seurat1@meta.data$outcome2[sce.seurat1@meta.data$name %in% c(\"H1pep\",\"H3pep\",\"H4pep\")]=c(\"H_pep\")\n",
    "sce.seurat1@meta.data$outcome2[sce.seurat1@meta.data$name %in% c(\"AD2pep\",\"AD3pep\",\"AD4pep\")]=c(\"AD_pep\")\n",
    "sce.seurat1@meta.data$outcome2[sce.seurat1@meta.data$name %in% c(\"AD2rec\",\"AD3rec\",\"AD4rec\")]=c(\"AD_rec\")\n",
    "##\n",
    "save(sce.seurat1,file=paste0(inter.dat,\"DARC_merge_NOV_ANALYSIS_READY_08.RData\"))"
   ]
  },
  {
   "cell_type": "markdown",
   "id": "3732c755-dbc9-47ab-b348-26b396beddf2",
   "metadata": {},
   "source": [
    "## check assoc between PC and technical factors"
   ]
  },
  {
   "cell_type": "code",
   "execution_count": null,
   "id": "1574a454-9da0-402c-a43f-427d488a172a",
   "metadata": {},
   "outputs": [],
   "source": [
    "phe=sce.seurat1@meta.data[,c(\"percent.mt\",\"nCount_RNA\",\"nFeature_RNA\",\"nCount_SCT\",\"nFeature_SCT\",\"S.Score\",\"batch\",\"CC.Difference\",\"Phase\")]\n",
    "phe$ID=as.character(rownames(sce.seurat1@meta.data))\n",
    "pcs=sce.seurat1@reductions$harmony@cell.embeddings[,1:15]\n",
    "reg.dat=as.data.frame(cbind(phe,pcs))"
   ]
  },
  {
   "cell_type": "code",
   "execution_count": null,
   "id": "4699d22a-bf04-4a4b-b3ef-9de1c31e2c3e",
   "metadata": {},
   "outputs": [],
   "source": [
    "## batch\n",
    "sig_PCs=c(15)\n",
    "mt_vs_PCs=data.frame(ID= rep(NA,sig_PCs),Estimate=rep(NA,sig_PCs),std_err=rep(NA,sig_PCs),t_val=rep(NA,sig_PCs),P_val=rep(NA,sig_PCs))\n",
    "\n",
    "for (k in 1:sig_PCs){\n",
    "  fit=summary(lm(paste(\"harmony_\",k,\"~ batch\",sep=\"\"),data=reg.dat))$coefficients[2,]\n",
    "  mt_vs_PCs[k,1]=paste(\"harmony_\",k,sep=\"\")\n",
    "  mt_vs_PCs[k,2:5]=fit\n",
    "}\n",
    "print(paste(\"multiple testing threshold is \",0.05/sig_PCs,sep=\"\"))\n",
    "print(\"++++++++++ associations between batch and PCs in analysis +++++++++++++\")\n",
    "mt_vs_PCs"
   ]
  },
  {
   "cell_type": "code",
   "execution_count": null,
   "id": "cf08d476-741b-4d71-abc9-5d169c262f88",
   "metadata": {},
   "outputs": [],
   "source": [
    "## mitochondiral RNA\n",
    "sig_PCs=c(15)\n",
    "mt_vs_PCs=data.frame(ID= rep(NA,sig_PCs),Estimate=rep(NA,sig_PCs),std_err=rep(NA,sig_PCs),t_val=rep(NA,sig_PCs),P_val=rep(NA,sig_PCs))\n",
    "\n",
    "for (k in 1:sig_PCs){\n",
    "  fit=summary(lm(paste(\"harmony_\",k,\"~ percent.mt\",sep=\"\"),data=reg.dat))$coefficients[2,]\n",
    "  mt_vs_PCs[k,1]=paste(\"harmony_\",k,sep=\"\")\n",
    "  mt_vs_PCs[k,2:5]=fit\n",
    "}\n",
    "print(paste(\"multiple testing threshold is \",0.05/sig_PCs,sep=\"\"))\n",
    "print(\"++++++++++ associations between mitochondiral RNA content and PCs in analysis +++++++++++++\")\n",
    "mt_vs_PCs"
   ]
  },
  {
   "cell_type": "code",
   "execution_count": null,
   "id": "412a1a2c-7a02-49fc-9203-fa5c0f8ff8c4",
   "metadata": {},
   "outputs": [],
   "source": [
    "## mitochondiral RNA\n",
    "sig_PCs=c(15)\n",
    "mt_vs_PCs=data.frame(ID= rep(NA,sig_PCs),Estimate=rep(NA,sig_PCs),std_err=rep(NA,sig_PCs),t_val=rep(NA,sig_PCs),P_val=rep(NA,sig_PCs))\n",
    "\n",
    "for (k in 1:sig_PCs){\n",
    "  fit=summary(lm(paste(\"harmony_\",k,\"~ nCount_RNA\",sep=\"\"),data=reg.dat))$coefficients[2,]\n",
    "  mt_vs_PCs[k,1]=paste(\"harmony_\",k,sep=\"\")\n",
    "  mt_vs_PCs[k,2:5]=fit\n",
    "}\n",
    "print(paste(\"multiple testing threshold is \",0.05/sig_PCs,sep=\"\"))\n",
    "print(\"++++++++++ associations between library size and PCs in analysis +++++++++++++\")\n",
    "mt_vs_PCs"
   ]
  },
  {
   "cell_type": "markdown",
   "id": "81a19576-f308-4c9c-bb92-fc888faa7112",
   "metadata": {},
   "source": [
    "## Association testing NOW !!"
   ]
  },
  {
   "cell_type": "code",
   "execution_count": null,
   "id": "1dd233f0-b47d-4238-820c-9983a4c6bb41",
   "metadata": {},
   "outputs": [],
   "source": [
    "clust.n=as.character(unique(Idents(sce.seurat1)))\n",
    "clust.size=table(Idents(sce.seurat1))\n",
    "clust.size\n",
    "clust.n=as.character(unique(Idents(sce.seurat1)))\n",
    "sce.seurat=sce.seurat1"
   ]
  },
  {
   "cell_type": "code",
   "execution_count": null,
   "id": "367d4b77-7b4a-4ebf-a50e-663629b351de",
   "metadata": {},
   "outputs": [],
   "source": [
    "# ====================================.  prep input data\n",
    "clust.n=as.character(unique(Idents(sce.seurat)))\n",
    "clust.size=table(Idents(sce.seurat))\n",
    "clust.size\n",
    "max_per_cluster=c(5000)  \n",
    "clust.n=as.character(unique(Idents(sce.seurat)))\n",
    "rm(res_wilcox)\n",
    "\n",
    "### ---------------------------------------------   one vs one for all cluster\n",
    "for (i in clust.n) {        ##  case loop\n",
    "     contr.clust=clust.n[!clust.n %in% i]\n",
    "    for (k in contr.clust) {    ## contr loop\n",
    "        if (i == k) {\n",
    "            next\n",
    "        }  \n",
    "         print(paste(\"computing markers for cluster\", i,\"compared to\",k,\"now!!!\", sep=\" \"))\n",
    "          seurat_cluster_0 = FindMarkers(sce.seurat, ident.1 = i, ident.2 = k,test.use = \"wilcox\",\n",
    "                                 logfc.threshold = 0.15,max.cells.per.ident = max_per_cluster,\n",
    "                                min.cells.group=30,only.pos = TRUE)  # min.pct = 0.3\n",
    "          seurat_cluster_0=seurat_cluster_0[seurat_cluster_0$p_val_adj < 0.05,]\n",
    "            seurat_cluster_0$ID=as.character(rownames(seurat_cluster_0))\n",
    "          seurat_cluster_0$case_CLUSTER=rep(i,nrow(seurat_cluster_0))\n",
    "          seurat_cluster_0$contr_CLUSTER=rep(k,nrow(seurat_cluster_0))\n",
    "          seurat_cluster_0$clust_size=rep(as.numeric(clust.size[i]),nrow(seurat_cluster_0))\n",
    "          sce.case=sce.seurat[rownames(sce.seurat) %in%  as.character(seurat_cluster_0$ID),Idents(sce.seurat)%in%c(i)]\n",
    "          sce.contr=sce.seurat[rownames(sce.seurat) %in%  as.character(seurat_cluster_0$ID),Idents(sce.seurat)%in%c(k)]\n",
    "            seurat_cluster_0=seurat_cluster_0[as.character(rownames(sce.case)), ]\n",
    "            seurat_cluster_0$case_total_umi=Matrix::rowSums(sce.case@assays$RNA@counts)\n",
    "            seurat_cluster_0$contr_total_umi=Matrix::rowSums(sce.contr@assays$RNA@counts)\n",
    "            ##.   ------------- get AUC\n",
    "            auc.sce=merge(sce.case,sce.contr)\n",
    "            seurat_cluster_0=seurat_cluster_0[as.character(rownames(auc.sce)), ]\n",
    "            response=rep(1,length(Idents(auc.sce)))                                       \n",
    "            response[Idents(auc.sce)%in% c(i)]=2\n",
    "            seurat_cluster_0$AUC=apply(auc.sce@assays$SCT@data,1,function(x)auc(response,as.numeric(x),quiet=T,allow.invalid.partial.auc.correct=F))                     \n",
    "        if(!exists(\"res_wilcox\")){\n",
    "            res_wilcox=seurat_cluster_0\n",
    "          }else {\n",
    "            res_wilcox=rbind(res_wilcox,seurat_cluster_0)\n",
    "          }\n",
    "      rm(seurat_cluster_0,response,sce.contr,sce.case,auc.sce)\n",
    "    } ## contr loop\n",
    "}  ## case loop                                                                  "
   ]
  },
  {
   "cell_type": "code",
   "execution_count": null,
   "id": "bfb4e2b1-c8b0-4e8c-be02-8b4d20434981",
   "metadata": {},
   "outputs": [],
   "source": [
    "save(res_wilcox,file=paste0(out,\"combined_ASSOC_result_cluster_\",sample_ID, \".RData\"))\n",
    "head(res_wilcox)"
   ]
  },
  {
   "cell_type": "code",
   "execution_count": null,
   "id": "56b53d27-67bf-447d-9e8e-0778013841b7",
   "metadata": {},
   "outputs": [],
   "source": [
    "enrich.lists=c('WikiPathways_2019_Human','KEGG_2019_Human' ,'Reactome_2016','BioPlanet_2019','Human_Gene_Atlas','ARCHS4_Tissues',\n",
    "               'Mouse_Gene_Atlas','GO_Biological_Process_2018','GO_Molecular_Function_2018','MSigDB_Hallmark_2020')\n",
    "screen.overlaps=c('MSigDB_Hallmark_2020','Human_Gene_Atlas','ARCHS4_Tissues','Mouse_Gene_Atlas','KEGG_2019_Human')\n",
    "###      ----------------------   NEW CURRENT VERSION.  !!!!!!!!!\n",
    "tiering_thresh=data.frame(case_perc=c(0.5,0.3),contr_perc=c(0.05,0.05))\n",
    "AUC_tier3=c(0.7)\n",
    "lgFC_tier3=c(0.25)\n",
    "maxCONTR=length(unique(res_wilcox$contr_CLUSTER))-1\n",
    "markerN=5\n",
    "### ----------------------------- tiering function\n",
    "tiering=function(dat,markerN){\n",
    "    dat=dat[order(-dat$AUC),]\n",
    "    order.ID=dat$ID[!duplicated(dat$ID)]   ### returns them in order of apperance !\n",
    "    ok.ID=order.ID[1:markerN]\n",
    "    dat12=dat[dat$ID %in% as.character(ok.ID),]\n",
    "return(dat12)\n",
    "}\n",
    "##------------------------------------------\n",
    "all.cases=unique(res_wilcox$case_CLUSTER)\n",
    "for (k in all.cases) {\n",
    "    print(noquote(c('--------------------------------------------------------------------------------')))\n",
    "    print(noquote(paste0(\"--------------   processing cluster \",k,\" as CASES now !!   ------------------------\")))\n",
    "    ## -------------------------------------------------------  prep full MACR dataset\n",
    "    inter=res_wilcox[res_wilcox$case_CLUSTER %in% k,]\n",
    "    dim(inter)\n",
    "    for (t in c(\"TIER\",\"DUPL\",\"nameCONT\",\"panel\",\"panel_descr\",unique(inter$contr_CLUSTER))){\n",
    "        inter[,t]=NA\n",
    "    } \n",
    "    ### ---------------------------------------------   start\n",
    "    rm(final.out)\n",
    "    for (tier in c(1,2)){\n",
    "        if (!exists(\"final.out\")){\n",
    "            int.t1a=inter[inter$pct.1>tiering_thresh[tier,1] & inter$pct.2 < tiering_thresh[tier,2],]\n",
    "            int.t1a$TIER=c(tier)\n",
    "        } else if (tier %in% c(2)) {\n",
    "            inter1=inter[!(inter$ID %in% final.out$ID),]\n",
    "            int.t1a=inter1[inter1$pct.1>tiering_thresh[tier,1] & inter1$pct.2 < tiering_thresh[tier,2],]\n",
    "            int.t1a$TIER=c(tier)\n",
    "        } else if ( tier %in% c(3)){\n",
    "            inter1=inter[!(inter$ID %in% final.out$ID),]\n",
    "            #int.t1a=inter1[inter1$AUC> as.numeric(AUC_tier3) & inter1$avg_logFC > lgFC_tier3,]\n",
    "            int.t1a=inter1[inter1$avg_logFC > lgFC_tier3,]\n",
    "            int.t1a$TIER=c(tier)\n",
    "        }\n",
    "    ### ------------   prep data per TIER\n",
    "        rm(int.t1)\n",
    "        for (kt in unique(int.t1a$ID)) {\n",
    "            int2=int.t1a[int.t1a$ID %in% kt,]\n",
    "            entr=as.character(int2$contr_CLUSTER)\n",
    "            int2$DUPL=length(entr)\n",
    "            int2$nameCONT = paste(entr,sep='',collapse=\" | \")\n",
    "            for (j in entr) {\n",
    "                int2[,j]=c(1)\n",
    "                }  \n",
    "            if(!exists(\"int.t1\")){\n",
    "                int.t1=int2\n",
    "                }else {\n",
    "                int.t1=rbind(int.t1,int2) \n",
    "            }\n",
    "        }\n",
    "    ### -------------------------------------\n",
    "    ### create panels -- per TIER   \n",
    "        spec=NA\n",
    "        for (r in maxCONTR:1) {  \n",
    "            dat=int.t1[int.t1$DUPL %in% r,]\n",
    "            #print (paste(\"this is control \", r, sep=\" \"))\n",
    "            if (max(int.t1$DUPL) < r) {  \n",
    "                #print (paste(\"skip \",r ,\"!!!\"))\n",
    "                next \n",
    "                } else if (any(dat$DUPL %in% maxCONTR)) {\n",
    "                        #print (c(\"found a lot of data\"))         \n",
    "                        dat12=tiering(dat,markerN)\n",
    "                        spec=c(spec,as.character(dat12$contr_CLUSTER))\n",
    "                        int.t1$panel[int.t1$ID %in% unique(dat12$ID)]=paste0(\"TIER\",tier,\"_panel\")        \n",
    "                    } ### a lot of data else if\n",
    "                    else if (nrow(dat) > 1 & length(spec)<2){\n",
    "                        #print (c(\"found data for the first time\"))   \n",
    "                        dat12=tiering(dat,markerN)\n",
    "                        spec=c(spec,as.character(dat12$contr_CLUSTER))\n",
    "                        int.t1$panel[int.t1$ID %in% unique(dat12$ID)]=paste0(\"TIER\",tier,\"_panel\")   \n",
    "                      }\n",
    "                    else if (nrow(dat) > 1){\n",
    "                       # print (c(\"found data !!!\")) \n",
    "                        freq.t=as.data.frame(table(spec))\n",
    "                        stay.in=freq.t$spec[freq.t$Freq < markerN]\n",
    "                        dat=dat[dat$contr_CLUSTER %in% stay.in, ]\n",
    "                        if (nrow(dat) > 1){\n",
    "                            dat12=tiering(dat,markerN)\n",
    "                            spec=c(spec,as.character(dat12$contr_CLUSTER))\n",
    "                            int.t1$panel[int.t1$ID %in% unique(dat12$ID)]=paste0(\"TIER\",tier,\"_panel\") \n",
    "                        } else { next }\n",
    "                    }\n",
    "        } # for loop\n",
    "###. -------\n",
    "        fin.int=as.data.frame(table(int.t1$contr_CLUSTER[!is.na(int.t1$panel)]))\n",
    "        zeros=unique(inter$contr_CLUSTER)[!(unique(inter$contr_CLUSTER) %in% fin.int$Var1)]\n",
    "        if (length(zeros >0)){\n",
    "            fin.int=rbind(fin.int,data.frame(Var1=zeros,Freq=rep(0,length(zeros))))\n",
    "        }\n",
    "        pan.descr=paste(paste(fin.int$Freq, fin.int$Var1,sep=\"x\"),sep=\"\",collapse=\" \")\n",
    "        int.t1$panel_descr[int.t1$panel %in% paste0(\"TIER\",tier,\"_panel\")] = c(pan.descr)  \n",
    "## \n",
    "        print(noquote(paste0(\" TIER \",tier, \" Markerpanel:\")))\n",
    "        print(noquote(paste(unique(int.t1$ID[int.t1$panel %in% paste0(\"TIER\",tier,\"_panel\") ]))))\n",
    "        if(!exists(\"final.out\")){\n",
    "            final.out=int.t1\n",
    "        } else {\n",
    "            final.out=rbind(final.out,int.t1)\n",
    "        }\n",
    "    } # close tiering loop\n",
    "    assign(paste0(\"all_tiers_\", k), final.out)  ### keep this for phenotype loop\n",
    "    write.table(final.out,file=paste0(out,\"MARKERS_specific_\",k,\"_allTIERs.txt\"),sep=\"\\t\",col.names=T,row.names=F,quote=F)\n",
    "    print(noquote(paste0('written to file: ', out,\"MARKERS_specific_\",k,\"_allTIERs.txt\")))\n",
    "####.  ----------------------------------   run enrichment\n",
    "    dat1=final.out[final.out$TIER %in% c(\"1\",\"2\"),]\n",
    "    g.list=dat1$ID[!duplicated(dat1$ID)]\n",
    "    invisible(capture.output(enr.result <- enrichr(as.character(g.list),enrich.lists)))\n",
    "#####.  ---------------------------------    screen overlaps and create list\n",
    "    for (over in enrich.lists) {\n",
    "        if(over %in% screen.overlaps){\n",
    "            print(noquote(paste(\"           ++++++++ cluster\",k, \"overlaps to\",over,\"++++++++     \")))\n",
    "            print(noquote((enr.result)[[over]][1:5,c(1,2,4)]))\n",
    "        }\n",
    "        inter=head((enr.result)[[over]],n=20)\n",
    "        if (!exists(\"over.fin\")){\n",
    "            over.fin=inter\n",
    "        }else {\n",
    "            over.fin=as.data.frame(rbind(over.fin, inter))\n",
    "            }\n",
    "        }\n",
    "    write.table(over.fin,file=paste0(out,\"OVERLAPS_specific_\",k,\"_TIER_1_2.txt\"),sep=\"\\t\",col.names=T,row.names=F,quote=F)\n",
    "    print(noquote(paste0('written to file: ', out,\"OVERLAPS_specific_\",k,\"_TIER_1_2.txt\")))\n",
    "    rm(over.fin)\n",
    "    \n",
    "}          "
   ]
  },
  {
   "cell_type": "markdown",
   "id": "ee84d762-af15-4cb9-a10e-e027f5ebe4a9",
   "metadata": {},
   "source": [
    "## start here"
   ]
  },
  {
   "cell_type": "code",
   "execution_count": null,
   "id": "e487af16-422d-42fc-9875-68c2c47ff211",
   "metadata": {},
   "outputs": [],
   "source": [
    "rm(list=ls())\n",
    "library(Seurat)\n",
    "sessionInfo()\n",
    "getwd()"
   ]
  },
  {
   "cell_type": "code",
   "execution_count": null,
   "id": "c1f5122f-a28a-4e75-8d2e-9040070d1c87",
   "metadata": {},
   "outputs": [],
   "source": [
    "dir=c(\"/gpfs/data/fs71707/dsam/data/DARC/DARC/\")\n",
    "out=c(\"/home/fs71707/dsam/data/DARC/DARC/result/\")\n",
    "inter.dat=c(\"/home/fs71707/dsam/data/DARC/DARC/proc_data/\")\n",
    "w.dir=c(\"/home/fs71707/dsam/data/DARC/DARC/notebooks/\")\n",
    "sample_ID=c(\"DARC_Nov22\")"
   ]
  },
  {
   "cell_type": "code",
   "execution_count": null,
   "id": "d1b4a175-82a6-443a-a6c6-4264ddb65a6d",
   "metadata": {},
   "outputs": [],
   "source": [
    "load(paste0(inter.dat,\"DARC_merge_NOV_ANALYSIS_READY.RData\"))"
   ]
  },
  {
   "cell_type": "markdown",
   "id": "4fd71bce-1298-4832-bf36-846cf3f80d64",
   "metadata": {},
   "source": [
    "## Annotate clusters based on specific markers"
   ]
  },
  {
   "cell_type": "code",
   "execution_count": null,
   "id": "e8d043cd-fe65-47dc-ae15-b528ceb403a7",
   "metadata": {},
   "outputs": [],
   "source": [
    "i=c(\"MLANA\")    \n",
    "p=FeaturePlot(sce.seurat1, reduction = \"tsne\",features = as.character(i),min.cutoff=0.1,max.cutoff=5)\n",
    "    print(p)\n",
    "DimPlot(sce.seurat1, reduction = \"tsne\", label=TRUE)"
   ]
  },
  {
   "cell_type": "code",
   "execution_count": null,
   "id": "b2c4512d-b2a8-4a63-a1ae-51acdee60786",
   "metadata": {},
   "outputs": [],
   "source": [
    "## give them an identity\n",
    "sce.seurat1@meta.data$celltype[sce.seurat1@meta.data$seurat_clusters %in% c(0)]=c(\"keratinocyte 1\")\n",
    "#..."
   ]
  },
  {
   "cell_type": "code",
   "execution_count": null,
   "id": "402c6b6c-eafc-43f9-b7c7-38feda9556c2",
   "metadata": {},
   "outputs": [],
   "source": []
  },
  {
   "cell_type": "markdown",
   "id": "5242cf9c-f718-44b5-bc18-0bdbf1a6bc03",
   "metadata": {},
   "source": [
    "## Calculate differentially expressed genes"
   ]
  },
  {
   "cell_type": "code",
   "execution_count": null,
   "id": "5b4b242b-b4a8-4572-92da-3b920bb39671",
   "metadata": {},
   "outputs": [],
   "source": [
    "# import a dataframe of CASE and CTRL and ID\n",
    "import_list=read.table(paste0(out,\"treatment_per_cluster.txt\"),sep=\"\\t\",header=T)\n",
    "head(import_list)"
   ]
  },
  {
   "cell_type": "code",
   "execution_count": null,
   "id": "51e49274-0407-4385-99d9-aa100bc0e41b",
   "metadata": {},
   "outputs": [],
   "source": [
    "sce.seurat=apc.final \n",
    "# ====================================.  prep input data\n",
    "Idents(sce.seurat)=sce.seurat@meta.data$cluster_treatments  ### check before running\n",
    "clust.n=as.character(unique(Idents(sce.seurat)))\n",
    "clust.size=table(Idents(sce.seurat))\n",
    "#clust.size\n",
    "max_per_cluster=c(2000) #adapt based on maximum cells!!  \n",
    "clust.n=as.character(unique(Idents(sce.seurat)))\n",
    "rm(res_wilcox)\n",
    "\n",
    "### ---------------------------------------------   case vs control for each cluster (based on file)\n",
    "\n",
    " for (k in 1:nrow(import_list)) { \n",
    "         print(paste(\"computing markers for comparison\", import_list$ID[k],\"comparing \",import_list$CASE[k], \" to\",import_list$CONT[k],\"now!!!\", sep=\" \"))\n",
    "          seurat_cluster_0 = FindMarkers(sce.seurat, ident.1 = import_list$CASE[k], ident.2 = import_list$CONT[k],test.use = \"wilcox\",\n",
    "                                 ,max.cells.per.ident = max_per_cluster,\n",
    "                                min.cells.group=5)  # min.pct = 0.3\n",
    "    ## removed min logFC   \n",
    "        \n",
    "        if (nrow(seurat_cluster_0) <1 ) {\n",
    "            print (paste (\"nothing for\",import_list$ID[k]))\n",
    "                next\n",
    "            } else {\n",
    "\n",
    "            \n",
    "            seurat_cluster_0$compareID=rep(as.character(import_list$ID[k]),nrow(seurat_cluster_0))\n",
    "          #seurat_cluster_0=seurat_cluster_0[seurat_cluster_0$p_val_adj < 0.05,] kein p-Wert exclusion\n",
    "            seurat_cluster_0$ID=as.character(rownames(seurat_cluster_0))\n",
    "          seurat_cluster_0$case_CLUSTER=rep(as.character(import_list$CASE[k]),nrow(seurat_cluster_0))\n",
    "          seurat_cluster_0$contr_CLUSTER=rep(as.character(import_list$CONT[k]),nrow(seurat_cluster_0))\n",
    "          seurat_cluster_0$clust_size_case=rep(as.numeric(clust.size[import_list$CASE[k]]),nrow(seurat_cluster_0))\n",
    "            seurat_cluster_0$clust_size_cont=rep(as.numeric(clust.size[import_list$CONT[k]]),nrow(seurat_cluster_0))\n",
    "            sce.case=sce.seurat[rownames(sce.seurat) %in%  as.character(seurat_cluster_0$ID),Idents(sce.seurat)%in% import_list$CASE[k]]\n",
    "          sce.contr=sce.seurat[rownames(sce.seurat) %in%  as.character(seurat_cluster_0$ID),Idents(sce.seurat)%in% import_list$CONT[k]]\n",
    "            \n",
    "            seurat_cluster_0=seurat_cluster_0[as.character(rownames(sce.case)), ]\n",
    "            seurat_cluster_0$case_total_umi=Matrix::rowSums(sce.case@assays$RNA@counts)\n",
    "           seurat_cluster_0$contr_total_umi=Matrix::rowSums(sce.contr@assays$RNA@counts)\n",
    "            seurat_cluster_0$case_mean_umi=Matrix::rowMeans(sce.case@assays$RNA@counts) #mean UMI counts\n",
    "           seurat_cluster_0$contr_mean_umi=Matrix::rowMeans(sce.contr@assays$RNA@counts) #mean UMI counts\n",
    "            \n",
    "    \n",
    "        if(!exists(\"res_wilcox\")){\n",
    "            res_wilcox=seurat_cluster_0\n",
    "          }else {\n",
    "            res_wilcox=rbind(res_wilcox,seurat_cluster_0)\n",
    "          }\n",
    "        \n",
    "      rm(seurat_cluster_0,sce.contr,sce.case)#,auc.sce,response)\n",
    "        } ## no rows in find cluster else       \n",
    "    }"
   ]
  }
 ],
 "metadata": {
  "kernelspec": {
   "display_name": "R",
   "language": "R",
   "name": "ir"
  },
  "language_info": {
   "codemirror_mode": "r",
   "file_extension": ".r",
   "mimetype": "text/x-r-source",
   "name": "R",
   "pygments_lexer": "r",
   "version": "4.3.0"
  }
 },
 "nbformat": 4,
 "nbformat_minor": 5
}
